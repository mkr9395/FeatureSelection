{
 "cells": [
  {
   "cell_type": "markdown",
   "id": "616aece5",
   "metadata": {},
   "source": [
    "# WEEK 26 : Embedded Methods / Intrinsic Method :\n",
    "\n",
    " LASSO and RIDGE https://www.youtube.com/watch?v=gryKjGVgzc4&list=PLc2rvfiptPSQYzmDIFuq2PqN2n28ZjxDH&index=12"
   ]
  },
  {
   "cell_type": "markdown",
   "id": "822487d7",
   "metadata": {},
   "source": [
    "https://learnwith.campusx.in/s/courses/637339afe4b0615a1bbed390/take"
   ]
  },
  {
   "cell_type": "code",
   "execution_count": null,
   "id": "ee6c6135",
   "metadata": {},
   "outputs": [],
   "source": []
  }
 ],
 "metadata": {
  "kernelspec": {
   "display_name": "Python 3 (ipykernel)",
   "language": "python",
   "name": "python3"
  },
  "language_info": {
   "codemirror_mode": {
    "name": "ipython",
    "version": 3
   },
   "file_extension": ".py",
   "mimetype": "text/x-python",
   "name": "python",
   "nbconvert_exporter": "python",
   "pygments_lexer": "ipython3",
   "version": "3.9.13"
  }
 },
 "nbformat": 4,
 "nbformat_minor": 5
}
