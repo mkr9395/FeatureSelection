{
 "cells": [
  {
   "cell_type": "markdown",
   "id": "1874abd0",
   "metadata": {},
   "source": [
    "https://www.youtube.com/watch?v=xlHk4okO8Ls&t=1s"
   ]
  },
  {
   "cell_type": "markdown",
   "id": "bc03444a",
   "metadata": {},
   "source": [
    "### Some Links\n",
    "https://stats.stackexchange.com/questions/204141/difference-between-selecting-features-based-on-f-regression-and-based-on-r2"
   ]
  },
  {
   "cell_type": "markdown",
   "id": "11bb4d35",
   "metadata": {},
   "source": [
    "# Feature Selection"
   ]
  },
  {
   "cell_type": "code",
   "execution_count": 284,
   "id": "4dc38c77",
   "metadata": {},
   "outputs": [],
   "source": [
    "import matplotlib.pyplot as plt\n",
    "import numpy as np\n",
    "import pandas as pd\n",
    "import seaborn as sns\n",
    "import warnings"
   ]
  },
  {
   "cell_type": "code",
   "execution_count": 285,
   "id": "bd2ad9a0",
   "metadata": {},
   "outputs": [],
   "source": [
    "from sklearn.linear_model import LogisticRegression\n",
    "from sklearn.metrics import accuracy_score, f1_score, confusion_matrix\n",
    "from sklearn.model_selection import train_test_split"
   ]
  },
  {
   "cell_type": "code",
   "execution_count": 286,
   "id": "85123366",
   "metadata": {},
   "outputs": [],
   "source": [
    "from sklearn.feature_selection import RFE\n",
    "from sklearn.feature_selection import RFECV\n",
    "from sklearn.feature_selection import SelectKBest, chi2"
   ]
  },
  {
   "cell_type": "markdown",
   "id": "3a43ef45",
   "metadata": {},
   "source": [
    "### SelectKBest -\n",
    "<br > Feature - Cat,     Target - Cat ==> Chi-Square <br /> \n",
    "<br > Feature - Numeric, Target - Numeric ==> Correlation <br /> \n",
    "<br > Feature - Cat,     Target - Numeric ==> f_regression <br /> \n",
    "<br > Feature - Numeric, Target - Cat ==> f_classification <br /> "
   ]
  },
  {
   "cell_type": "code",
   "execution_count": 287,
   "id": "e2d0df3d",
   "metadata": {},
   "outputs": [],
   "source": [
    "np.set_printoptions(precision=3)\n",
    "pd.set_option('display.float_format', lambda x: '%.3f' % x)\n",
    "warnings.filterwarnings('ignore')\n",
    "np.random.seed(8)\n",
    "%matplotlib inline"
   ]
  },
  {
   "cell_type": "code",
   "execution_count": 288,
   "id": "b95e4d29",
   "metadata": {},
   "outputs": [],
   "source": [
    "def generate_accuracy_and_heatmap(model, x, y):\n",
    "#     cm = confusion_matrix(y,model.predict(x))\n",
    "#     sns.heatmap(cm,annot=True,fmt=\"d\")\n",
    "    ac = accuracy_score(y,model.predict(x))\n",
    "    f_score = f1_score(y,model.predict(x))\n",
    "    print('Accuracy is: ', ac)\n",
    "    print('F1 score is: ', f_score)\n",
    "    print (\"\\n\")\n",
    "    print (pd.crosstab(pd.Series(model.predict(x), name='Predicted'),\n",
    "                       pd.Series(y['Outcome'],name='Actual')))\n",
    "    return 1"
   ]
  },
  {
   "cell_type": "code",
   "execution_count": 289,
   "id": "81bc2048",
   "metadata": {},
   "outputs": [
    {
     "data": {
      "text/html": [
       "<div>\n",
       "<style scoped>\n",
       "    .dataframe tbody tr th:only-of-type {\n",
       "        vertical-align: middle;\n",
       "    }\n",
       "\n",
       "    .dataframe tbody tr th {\n",
       "        vertical-align: top;\n",
       "    }\n",
       "\n",
       "    .dataframe thead th {\n",
       "        text-align: right;\n",
       "    }\n",
       "</style>\n",
       "<table border=\"1\" class=\"dataframe\">\n",
       "  <thead>\n",
       "    <tr style=\"text-align: right;\">\n",
       "      <th></th>\n",
       "      <th>Pregnancies</th>\n",
       "      <th>Glucose</th>\n",
       "      <th>BloodPressure</th>\n",
       "      <th>SkinThickness</th>\n",
       "      <th>Insulin</th>\n",
       "      <th>BMI</th>\n",
       "      <th>DiabetesPedigreeFunction</th>\n",
       "      <th>Age</th>\n",
       "      <th>Outcome</th>\n",
       "    </tr>\n",
       "  </thead>\n",
       "  <tbody>\n",
       "    <tr>\n",
       "      <th>0</th>\n",
       "      <td>6</td>\n",
       "      <td>148</td>\n",
       "      <td>72</td>\n",
       "      <td>35</td>\n",
       "      <td>0</td>\n",
       "      <td>33.600</td>\n",
       "      <td>0.627</td>\n",
       "      <td>50</td>\n",
       "      <td>1</td>\n",
       "    </tr>\n",
       "    <tr>\n",
       "      <th>1</th>\n",
       "      <td>1</td>\n",
       "      <td>85</td>\n",
       "      <td>66</td>\n",
       "      <td>29</td>\n",
       "      <td>0</td>\n",
       "      <td>26.600</td>\n",
       "      <td>0.351</td>\n",
       "      <td>31</td>\n",
       "      <td>0</td>\n",
       "    </tr>\n",
       "    <tr>\n",
       "      <th>2</th>\n",
       "      <td>8</td>\n",
       "      <td>183</td>\n",
       "      <td>64</td>\n",
       "      <td>0</td>\n",
       "      <td>0</td>\n",
       "      <td>23.300</td>\n",
       "      <td>0.672</td>\n",
       "      <td>32</td>\n",
       "      <td>1</td>\n",
       "    </tr>\n",
       "    <tr>\n",
       "      <th>3</th>\n",
       "      <td>1</td>\n",
       "      <td>89</td>\n",
       "      <td>66</td>\n",
       "      <td>23</td>\n",
       "      <td>94</td>\n",
       "      <td>28.100</td>\n",
       "      <td>0.167</td>\n",
       "      <td>21</td>\n",
       "      <td>0</td>\n",
       "    </tr>\n",
       "    <tr>\n",
       "      <th>4</th>\n",
       "      <td>0</td>\n",
       "      <td>137</td>\n",
       "      <td>40</td>\n",
       "      <td>35</td>\n",
       "      <td>168</td>\n",
       "      <td>43.100</td>\n",
       "      <td>2.288</td>\n",
       "      <td>33</td>\n",
       "      <td>1</td>\n",
       "    </tr>\n",
       "  </tbody>\n",
       "</table>\n",
       "</div>"
      ],
      "text/plain": [
       "   Pregnancies  Glucose  BloodPressure  SkinThickness  Insulin    BMI  \\\n",
       "0            6      148             72             35        0 33.600   \n",
       "1            1       85             66             29        0 26.600   \n",
       "2            8      183             64              0        0 23.300   \n",
       "3            1       89             66             23       94 28.100   \n",
       "4            0      137             40             35      168 43.100   \n",
       "\n",
       "   DiabetesPedigreeFunction  Age  Outcome  \n",
       "0                     0.627   50        1  \n",
       "1                     0.351   31        0  \n",
       "2                     0.672   32        1  \n",
       "3                     0.167   21        0  \n",
       "4                     2.288   33        1  "
      ]
     },
     "execution_count": 289,
     "metadata": {},
     "output_type": "execute_result"
    }
   ],
   "source": [
    "df = pd.read_csv('diabetes.csv')\n",
    "df.head()"
   ]
  },
  {
   "cell_type": "code",
   "execution_count": 290,
   "id": "336adcba",
   "metadata": {},
   "outputs": [
    {
     "data": {
      "text/plain": [
       "(768, 9)"
      ]
     },
     "execution_count": 290,
     "metadata": {},
     "output_type": "execute_result"
    }
   ],
   "source": [
    "df.shape"
   ]
  },
  {
   "cell_type": "code",
   "execution_count": 291,
   "id": "8d740eb0",
   "metadata": {},
   "outputs": [
    {
     "name": "stdout",
     "output_type": "stream",
     "text": [
      "<class 'pandas.core.frame.DataFrame'>\n",
      "RangeIndex: 768 entries, 0 to 767\n",
      "Data columns (total 9 columns):\n",
      " #   Column                    Non-Null Count  Dtype  \n",
      "---  ------                    --------------  -----  \n",
      " 0   Pregnancies               768 non-null    int64  \n",
      " 1   Glucose                   768 non-null    int64  \n",
      " 2   BloodPressure             768 non-null    int64  \n",
      " 3   SkinThickness             768 non-null    int64  \n",
      " 4   Insulin                   768 non-null    int64  \n",
      " 5   BMI                       768 non-null    float64\n",
      " 6   DiabetesPedigreeFunction  768 non-null    float64\n",
      " 7   Age                       768 non-null    int64  \n",
      " 8   Outcome                   768 non-null    int64  \n",
      "dtypes: float64(2), int64(7)\n",
      "memory usage: 54.1 KB\n"
     ]
    }
   ],
   "source": [
    "df.info()"
   ]
  },
  {
   "cell_type": "code",
   "execution_count": 292,
   "id": "6f16e1a5",
   "metadata": {},
   "outputs": [
    {
     "data": {
      "text/plain": [
       "0    500\n",
       "1    268\n",
       "Name: Outcome, dtype: int64"
      ]
     },
     "execution_count": 292,
     "metadata": {},
     "output_type": "execute_result"
    }
   ],
   "source": [
    "df['Outcome'].value_counts() # there is a class imbalance, but we won't fix it right now"
   ]
  },
  {
   "cell_type": "code",
   "execution_count": 293,
   "id": "f1065aee",
   "metadata": {},
   "outputs": [
    {
     "data": {
      "text/html": [
       "<div>\n",
       "<style scoped>\n",
       "    .dataframe tbody tr th:only-of-type {\n",
       "        vertical-align: middle;\n",
       "    }\n",
       "\n",
       "    .dataframe tbody tr th {\n",
       "        vertical-align: top;\n",
       "    }\n",
       "\n",
       "    .dataframe thead th {\n",
       "        text-align: right;\n",
       "    }\n",
       "</style>\n",
       "<table border=\"1\" class=\"dataframe\">\n",
       "  <thead>\n",
       "    <tr style=\"text-align: right;\">\n",
       "      <th></th>\n",
       "      <th>Pregnancies</th>\n",
       "      <th>Glucose</th>\n",
       "      <th>BloodPressure</th>\n",
       "      <th>SkinThickness</th>\n",
       "      <th>Insulin</th>\n",
       "      <th>BMI</th>\n",
       "      <th>DiabetesPedigreeFunction</th>\n",
       "      <th>Age</th>\n",
       "      <th>Outcome</th>\n",
       "    </tr>\n",
       "  </thead>\n",
       "  <tbody>\n",
       "    <tr>\n",
       "      <th>0</th>\n",
       "      <td>6</td>\n",
       "      <td>148</td>\n",
       "      <td>72</td>\n",
       "      <td>35</td>\n",
       "      <td>0</td>\n",
       "      <td>33.600</td>\n",
       "      <td>0.627</td>\n",
       "      <td>50</td>\n",
       "      <td>1</td>\n",
       "    </tr>\n",
       "    <tr>\n",
       "      <th>1</th>\n",
       "      <td>1</td>\n",
       "      <td>85</td>\n",
       "      <td>66</td>\n",
       "      <td>29</td>\n",
       "      <td>0</td>\n",
       "      <td>26.600</td>\n",
       "      <td>0.351</td>\n",
       "      <td>31</td>\n",
       "      <td>0</td>\n",
       "    </tr>\n",
       "    <tr>\n",
       "      <th>2</th>\n",
       "      <td>8</td>\n",
       "      <td>183</td>\n",
       "      <td>64</td>\n",
       "      <td>0</td>\n",
       "      <td>0</td>\n",
       "      <td>23.300</td>\n",
       "      <td>0.672</td>\n",
       "      <td>32</td>\n",
       "      <td>1</td>\n",
       "    </tr>\n",
       "    <tr>\n",
       "      <th>3</th>\n",
       "      <td>1</td>\n",
       "      <td>89</td>\n",
       "      <td>66</td>\n",
       "      <td>23</td>\n",
       "      <td>94</td>\n",
       "      <td>28.100</td>\n",
       "      <td>0.167</td>\n",
       "      <td>21</td>\n",
       "      <td>0</td>\n",
       "    </tr>\n",
       "    <tr>\n",
       "      <th>4</th>\n",
       "      <td>0</td>\n",
       "      <td>137</td>\n",
       "      <td>40</td>\n",
       "      <td>35</td>\n",
       "      <td>168</td>\n",
       "      <td>43.100</td>\n",
       "      <td>2.288</td>\n",
       "      <td>33</td>\n",
       "      <td>1</td>\n",
       "    </tr>\n",
       "  </tbody>\n",
       "</table>\n",
       "</div>"
      ],
      "text/plain": [
       "   Pregnancies  Glucose  BloodPressure  SkinThickness  Insulin    BMI  \\\n",
       "0            6      148             72             35        0 33.600   \n",
       "1            1       85             66             29        0 26.600   \n",
       "2            8      183             64              0        0 23.300   \n",
       "3            1       89             66             23       94 28.100   \n",
       "4            0      137             40             35      168 43.100   \n",
       "\n",
       "   DiabetesPedigreeFunction  Age  Outcome  \n",
       "0                     0.627   50        1  \n",
       "1                     0.351   31        0  \n",
       "2                     0.672   32        1  \n",
       "3                     0.167   21        0  \n",
       "4                     2.288   33        1  "
      ]
     },
     "execution_count": 293,
     "metadata": {},
     "output_type": "execute_result"
    }
   ],
   "source": [
    "df.head()"
   ]
  },
  {
   "cell_type": "code",
   "execution_count": 294,
   "id": "b8edcce7",
   "metadata": {},
   "outputs": [
    {
     "data": {
      "text/plain": [
       "(768, 9)"
      ]
     },
     "execution_count": 294,
     "metadata": {},
     "output_type": "execute_result"
    }
   ],
   "source": [
    "df.shape"
   ]
  },
  {
   "cell_type": "code",
   "execution_count": 295,
   "id": "ffd8b534",
   "metadata": {},
   "outputs": [],
   "source": [
    "df['BloodPressureSquare'] = np.square(df['BloodPressure'])\n",
    "df['BloodPressureCube'] = df['BloodPressure']**3\n",
    "df['BloodPressureSqrt'] = np.sqrt(df['BloodPressure'])"
   ]
  },
  {
   "cell_type": "code",
   "execution_count": 296,
   "id": "3ce792f3",
   "metadata": {},
   "outputs": [],
   "source": [
    "df['GlucoseSquare'] = np.square(df['Glucose'])\n",
    "df['GlucoseCube'] = df['Glucose']**3\n",
    "df['GlucoseSqrt'] = np.sqrt(df['Glucose'])"
   ]
  },
  {
   "cell_type": "code",
   "execution_count": 297,
   "id": "5e8184d8",
   "metadata": {},
   "outputs": [],
   "source": [
    "df['GlucoseBloodPressure'] = df['BloodPressure'] * df['Glucose']\n",
    "df['AgeBMI'] = df['Age'] * df['BMI']"
   ]
  },
  {
   "cell_type": "code",
   "execution_count": 298,
   "id": "ce317b45",
   "metadata": {},
   "outputs": [
    {
     "data": {
      "text/html": [
       "<div>\n",
       "<style scoped>\n",
       "    .dataframe tbody tr th:only-of-type {\n",
       "        vertical-align: middle;\n",
       "    }\n",
       "\n",
       "    .dataframe tbody tr th {\n",
       "        vertical-align: top;\n",
       "    }\n",
       "\n",
       "    .dataframe thead th {\n",
       "        text-align: right;\n",
       "    }\n",
       "</style>\n",
       "<table border=\"1\" class=\"dataframe\">\n",
       "  <thead>\n",
       "    <tr style=\"text-align: right;\">\n",
       "      <th></th>\n",
       "      <th>Pregnancies</th>\n",
       "      <th>Glucose</th>\n",
       "      <th>BloodPressure</th>\n",
       "      <th>SkinThickness</th>\n",
       "      <th>Insulin</th>\n",
       "      <th>BMI</th>\n",
       "      <th>DiabetesPedigreeFunction</th>\n",
       "      <th>Age</th>\n",
       "      <th>Outcome</th>\n",
       "      <th>BloodPressureSquare</th>\n",
       "      <th>BloodPressureCube</th>\n",
       "      <th>BloodPressureSqrt</th>\n",
       "      <th>GlucoseSquare</th>\n",
       "      <th>GlucoseCube</th>\n",
       "      <th>GlucoseSqrt</th>\n",
       "      <th>GlucoseBloodPressure</th>\n",
       "      <th>AgeBMI</th>\n",
       "    </tr>\n",
       "  </thead>\n",
       "  <tbody>\n",
       "    <tr>\n",
       "      <th>0</th>\n",
       "      <td>6</td>\n",
       "      <td>148</td>\n",
       "      <td>72</td>\n",
       "      <td>35</td>\n",
       "      <td>0</td>\n",
       "      <td>33.600</td>\n",
       "      <td>0.627</td>\n",
       "      <td>50</td>\n",
       "      <td>1</td>\n",
       "      <td>5184</td>\n",
       "      <td>373248</td>\n",
       "      <td>8.485</td>\n",
       "      <td>21904</td>\n",
       "      <td>3241792</td>\n",
       "      <td>12.166</td>\n",
       "      <td>10656</td>\n",
       "      <td>1680.000</td>\n",
       "    </tr>\n",
       "    <tr>\n",
       "      <th>1</th>\n",
       "      <td>1</td>\n",
       "      <td>85</td>\n",
       "      <td>66</td>\n",
       "      <td>29</td>\n",
       "      <td>0</td>\n",
       "      <td>26.600</td>\n",
       "      <td>0.351</td>\n",
       "      <td>31</td>\n",
       "      <td>0</td>\n",
       "      <td>4356</td>\n",
       "      <td>287496</td>\n",
       "      <td>8.124</td>\n",
       "      <td>7225</td>\n",
       "      <td>614125</td>\n",
       "      <td>9.220</td>\n",
       "      <td>5610</td>\n",
       "      <td>824.600</td>\n",
       "    </tr>\n",
       "    <tr>\n",
       "      <th>2</th>\n",
       "      <td>8</td>\n",
       "      <td>183</td>\n",
       "      <td>64</td>\n",
       "      <td>0</td>\n",
       "      <td>0</td>\n",
       "      <td>23.300</td>\n",
       "      <td>0.672</td>\n",
       "      <td>32</td>\n",
       "      <td>1</td>\n",
       "      <td>4096</td>\n",
       "      <td>262144</td>\n",
       "      <td>8.000</td>\n",
       "      <td>33489</td>\n",
       "      <td>6128487</td>\n",
       "      <td>13.528</td>\n",
       "      <td>11712</td>\n",
       "      <td>745.600</td>\n",
       "    </tr>\n",
       "    <tr>\n",
       "      <th>3</th>\n",
       "      <td>1</td>\n",
       "      <td>89</td>\n",
       "      <td>66</td>\n",
       "      <td>23</td>\n",
       "      <td>94</td>\n",
       "      <td>28.100</td>\n",
       "      <td>0.167</td>\n",
       "      <td>21</td>\n",
       "      <td>0</td>\n",
       "      <td>4356</td>\n",
       "      <td>287496</td>\n",
       "      <td>8.124</td>\n",
       "      <td>7921</td>\n",
       "      <td>704969</td>\n",
       "      <td>9.434</td>\n",
       "      <td>5874</td>\n",
       "      <td>590.100</td>\n",
       "    </tr>\n",
       "    <tr>\n",
       "      <th>4</th>\n",
       "      <td>0</td>\n",
       "      <td>137</td>\n",
       "      <td>40</td>\n",
       "      <td>35</td>\n",
       "      <td>168</td>\n",
       "      <td>43.100</td>\n",
       "      <td>2.288</td>\n",
       "      <td>33</td>\n",
       "      <td>1</td>\n",
       "      <td>1600</td>\n",
       "      <td>64000</td>\n",
       "      <td>6.325</td>\n",
       "      <td>18769</td>\n",
       "      <td>2571353</td>\n",
       "      <td>11.705</td>\n",
       "      <td>5480</td>\n",
       "      <td>1422.300</td>\n",
       "    </tr>\n",
       "  </tbody>\n",
       "</table>\n",
       "</div>"
      ],
      "text/plain": [
       "   Pregnancies  Glucose  BloodPressure  SkinThickness  Insulin    BMI  \\\n",
       "0            6      148             72             35        0 33.600   \n",
       "1            1       85             66             29        0 26.600   \n",
       "2            8      183             64              0        0 23.300   \n",
       "3            1       89             66             23       94 28.100   \n",
       "4            0      137             40             35      168 43.100   \n",
       "\n",
       "   DiabetesPedigreeFunction  Age  Outcome  BloodPressureSquare  \\\n",
       "0                     0.627   50        1                 5184   \n",
       "1                     0.351   31        0                 4356   \n",
       "2                     0.672   32        1                 4096   \n",
       "3                     0.167   21        0                 4356   \n",
       "4                     2.288   33        1                 1600   \n",
       "\n",
       "   BloodPressureCube  BloodPressureSqrt  GlucoseSquare  GlucoseCube  \\\n",
       "0             373248              8.485          21904      3241792   \n",
       "1             287496              8.124           7225       614125   \n",
       "2             262144              8.000          33489      6128487   \n",
       "3             287496              8.124           7921       704969   \n",
       "4              64000              6.325          18769      2571353   \n",
       "\n",
       "   GlucoseSqrt  GlucoseBloodPressure   AgeBMI  \n",
       "0       12.166                 10656 1680.000  \n",
       "1        9.220                  5610  824.600  \n",
       "2       13.528                 11712  745.600  \n",
       "3        9.434                  5874  590.100  \n",
       "4       11.705                  5480 1422.300  "
      ]
     },
     "execution_count": 298,
     "metadata": {},
     "output_type": "execute_result"
    }
   ],
   "source": [
    "df.head()"
   ]
  },
  {
   "cell_type": "code",
   "execution_count": 299,
   "id": "aaee535c",
   "metadata": {},
   "outputs": [
    {
     "data": {
      "text/plain": [
       "(768, 17)"
      ]
     },
     "execution_count": 299,
     "metadata": {},
     "output_type": "execute_result"
    }
   ],
   "source": [
    "df.shape"
   ]
  },
  {
   "cell_type": "code",
   "execution_count": 300,
   "id": "66622850",
   "metadata": {},
   "outputs": [
    {
     "data": {
      "text/plain": [
       "[]"
      ]
     },
     "execution_count": 300,
     "metadata": {},
     "output_type": "execute_result"
    }
   ],
   "source": [
    "# checking for categorical columns\n",
    "categorical_feature_columns = list(set(df.columns) - set(df._get_numeric_data().columns))\n",
    "categorical_feature_columns"
   ]
  },
  {
   "cell_type": "code",
   "execution_count": 301,
   "id": "d162e740",
   "metadata": {},
   "outputs": [
    {
     "data": {
      "text/plain": [
       "['Pregnancies',\n",
       " 'Glucose',\n",
       " 'BloodPressure',\n",
       " 'SkinThickness',\n",
       " 'Insulin',\n",
       " 'BMI',\n",
       " 'DiabetesPedigreeFunction',\n",
       " 'Age',\n",
       " 'Outcome',\n",
       " 'BloodPressureSquare',\n",
       " 'BloodPressureCube',\n",
       " 'BloodPressureSqrt',\n",
       " 'GlucoseSquare',\n",
       " 'GlucoseCube',\n",
       " 'GlucoseSqrt',\n",
       " 'GlucoseBloodPressure',\n",
       " 'AgeBMI']"
      ]
     },
     "execution_count": 301,
     "metadata": {},
     "output_type": "execute_result"
    }
   ],
   "source": [
    "# checking for numerical columns\n",
    "numerical_feature_columns = list(df._get_numeric_data().columns)\n",
    "numerical_feature_columns"
   ]
  },
  {
   "cell_type": "code",
   "execution_count": 302,
   "id": "1609b5d3",
   "metadata": {},
   "outputs": [],
   "source": [
    "target = 'Outcome'"
   ]
  },
  {
   "cell_type": "code",
   "execution_count": 303,
   "id": "d0ab9cf4",
   "metadata": {},
   "outputs": [
    {
     "data": {
      "text/html": [
       "<div>\n",
       "<style scoped>\n",
       "    .dataframe tbody tr th:only-of-type {\n",
       "        vertical-align: middle;\n",
       "    }\n",
       "\n",
       "    .dataframe tbody tr th {\n",
       "        vertical-align: top;\n",
       "    }\n",
       "\n",
       "    .dataframe thead th {\n",
       "        text-align: right;\n",
       "    }\n",
       "</style>\n",
       "<table border=\"1\" class=\"dataframe\">\n",
       "  <thead>\n",
       "    <tr style=\"text-align: right;\">\n",
       "      <th></th>\n",
       "      <th>Pregnancies</th>\n",
       "      <th>Glucose</th>\n",
       "      <th>BloodPressure</th>\n",
       "      <th>SkinThickness</th>\n",
       "      <th>Insulin</th>\n",
       "      <th>BMI</th>\n",
       "      <th>DiabetesPedigreeFunction</th>\n",
       "      <th>Age</th>\n",
       "      <th>Outcome</th>\n",
       "      <th>BloodPressureSquare</th>\n",
       "      <th>BloodPressureCube</th>\n",
       "      <th>BloodPressureSqrt</th>\n",
       "      <th>GlucoseSquare</th>\n",
       "      <th>GlucoseCube</th>\n",
       "      <th>GlucoseSqrt</th>\n",
       "      <th>GlucoseBloodPressure</th>\n",
       "      <th>AgeBMI</th>\n",
       "    </tr>\n",
       "  </thead>\n",
       "  <tbody>\n",
       "    <tr>\n",
       "      <th>Pregnancies</th>\n",
       "      <td>1.000</td>\n",
       "      <td>0.129</td>\n",
       "      <td>0.141</td>\n",
       "      <td>-0.082</td>\n",
       "      <td>-0.074</td>\n",
       "      <td>0.018</td>\n",
       "      <td>-0.034</td>\n",
       "      <td>0.544</td>\n",
       "      <td>0.222</td>\n",
       "      <td>0.175</td>\n",
       "      <td>0.176</td>\n",
       "      <td>0.093</td>\n",
       "      <td>0.127</td>\n",
       "      <td>0.120</td>\n",
       "      <td>0.121</td>\n",
       "      <td>0.180</td>\n",
       "      <td>0.464</td>\n",
       "    </tr>\n",
       "    <tr>\n",
       "      <th>Glucose</th>\n",
       "      <td>0.129</td>\n",
       "      <td>1.000</td>\n",
       "      <td>0.153</td>\n",
       "      <td>0.057</td>\n",
       "      <td>0.331</td>\n",
       "      <td>0.221</td>\n",
       "      <td>0.137</td>\n",
       "      <td>0.264</td>\n",
       "      <td>0.467</td>\n",
       "      <td>0.193</td>\n",
       "      <td>0.199</td>\n",
       "      <td>0.101</td>\n",
       "      <td>0.979</td>\n",
       "      <td>0.946</td>\n",
       "      <td>0.964</td>\n",
       "      <td>0.739</td>\n",
       "      <td>0.321</td>\n",
       "    </tr>\n",
       "    <tr>\n",
       "      <th>BloodPressure</th>\n",
       "      <td>0.141</td>\n",
       "      <td>0.153</td>\n",
       "      <td>1.000</td>\n",
       "      <td>0.207</td>\n",
       "      <td>0.089</td>\n",
       "      <td>0.282</td>\n",
       "      <td>0.041</td>\n",
       "      <td>0.240</td>\n",
       "      <td>0.065</td>\n",
       "      <td>0.939</td>\n",
       "      <td>0.854</td>\n",
       "      <td>0.958</td>\n",
       "      <td>0.153</td>\n",
       "      <td>0.147</td>\n",
       "      <td>0.137</td>\n",
       "      <td>0.760</td>\n",
       "      <td>0.334</td>\n",
       "    </tr>\n",
       "    <tr>\n",
       "      <th>SkinThickness</th>\n",
       "      <td>-0.082</td>\n",
       "      <td>0.057</td>\n",
       "      <td>0.207</td>\n",
       "      <td>1.000</td>\n",
       "      <td>0.437</td>\n",
       "      <td>0.393</td>\n",
       "      <td>0.184</td>\n",
       "      <td>-0.114</td>\n",
       "      <td>0.075</td>\n",
       "      <td>0.143</td>\n",
       "      <td>0.100</td>\n",
       "      <td>0.244</td>\n",
       "      <td>0.072</td>\n",
       "      <td>0.080</td>\n",
       "      <td>0.036</td>\n",
       "      <td>0.171</td>\n",
       "      <td>0.121</td>\n",
       "    </tr>\n",
       "    <tr>\n",
       "      <th>Insulin</th>\n",
       "      <td>-0.074</td>\n",
       "      <td>0.331</td>\n",
       "      <td>0.089</td>\n",
       "      <td>0.437</td>\n",
       "      <td>1.000</td>\n",
       "      <td>0.198</td>\n",
       "      <td>0.185</td>\n",
       "      <td>-0.042</td>\n",
       "      <td>0.131</td>\n",
       "      <td>0.041</td>\n",
       "      <td>0.015</td>\n",
       "      <td>0.123</td>\n",
       "      <td>0.335</td>\n",
       "      <td>0.328</td>\n",
       "      <td>0.305</td>\n",
       "      <td>0.267</td>\n",
       "      <td>0.069</td>\n",
       "    </tr>\n",
       "    <tr>\n",
       "      <th>BMI</th>\n",
       "      <td>0.018</td>\n",
       "      <td>0.221</td>\n",
       "      <td>0.282</td>\n",
       "      <td>0.393</td>\n",
       "      <td>0.198</td>\n",
       "      <td>1.000</td>\n",
       "      <td>0.141</td>\n",
       "      <td>0.036</td>\n",
       "      <td>0.293</td>\n",
       "      <td>0.297</td>\n",
       "      <td>0.288</td>\n",
       "      <td>0.246</td>\n",
       "      <td>0.226</td>\n",
       "      <td>0.219</td>\n",
       "      <td>0.193</td>\n",
       "      <td>0.305</td>\n",
       "      <td>0.578</td>\n",
       "    </tr>\n",
       "    <tr>\n",
       "      <th>DiabetesPedigreeFunction</th>\n",
       "      <td>-0.034</td>\n",
       "      <td>0.137</td>\n",
       "      <td>0.041</td>\n",
       "      <td>0.184</td>\n",
       "      <td>0.185</td>\n",
       "      <td>0.141</td>\n",
       "      <td>1.000</td>\n",
       "      <td>0.034</td>\n",
       "      <td>0.174</td>\n",
       "      <td>0.027</td>\n",
       "      <td>0.017</td>\n",
       "      <td>0.050</td>\n",
       "      <td>0.146</td>\n",
       "      <td>0.150</td>\n",
       "      <td>0.123</td>\n",
       "      <td>0.116</td>\n",
       "      <td>0.098</td>\n",
       "    </tr>\n",
       "    <tr>\n",
       "      <th>Age</th>\n",
       "      <td>0.544</td>\n",
       "      <td>0.264</td>\n",
       "      <td>0.240</td>\n",
       "      <td>-0.114</td>\n",
       "      <td>-0.042</td>\n",
       "      <td>0.036</td>\n",
       "      <td>0.034</td>\n",
       "      <td>1.000</td>\n",
       "      <td>0.238</td>\n",
       "      <td>0.293</td>\n",
       "      <td>0.296</td>\n",
       "      <td>0.166</td>\n",
       "      <td>0.268</td>\n",
       "      <td>0.261</td>\n",
       "      <td>0.238</td>\n",
       "      <td>0.325</td>\n",
       "      <td>0.809</td>\n",
       "    </tr>\n",
       "    <tr>\n",
       "      <th>Outcome</th>\n",
       "      <td>0.222</td>\n",
       "      <td>0.467</td>\n",
       "      <td>0.065</td>\n",
       "      <td>0.075</td>\n",
       "      <td>0.131</td>\n",
       "      <td>0.293</td>\n",
       "      <td>0.174</td>\n",
       "      <td>0.238</td>\n",
       "      <td>1.000</td>\n",
       "      <td>0.113</td>\n",
       "      <td>0.128</td>\n",
       "      <td>0.016</td>\n",
       "      <td>0.484</td>\n",
       "      <td>0.477</td>\n",
       "      <td>0.406</td>\n",
       "      <td>0.333</td>\n",
       "      <td>0.358</td>\n",
       "    </tr>\n",
       "    <tr>\n",
       "      <th>BloodPressureSquare</th>\n",
       "      <td>0.175</td>\n",
       "      <td>0.193</td>\n",
       "      <td>0.939</td>\n",
       "      <td>0.143</td>\n",
       "      <td>0.041</td>\n",
       "      <td>0.297</td>\n",
       "      <td>0.027</td>\n",
       "      <td>0.293</td>\n",
       "      <td>0.113</td>\n",
       "      <td>1.000</td>\n",
       "      <td>0.979</td>\n",
       "      <td>0.805</td>\n",
       "      <td>0.191</td>\n",
       "      <td>0.181</td>\n",
       "      <td>0.176</td>\n",
       "      <td>0.752</td>\n",
       "      <td>0.392</td>\n",
       "    </tr>\n",
       "    <tr>\n",
       "      <th>BloodPressureCube</th>\n",
       "      <td>0.176</td>\n",
       "      <td>0.199</td>\n",
       "      <td>0.854</td>\n",
       "      <td>0.100</td>\n",
       "      <td>0.015</td>\n",
       "      <td>0.288</td>\n",
       "      <td>0.017</td>\n",
       "      <td>0.296</td>\n",
       "      <td>0.128</td>\n",
       "      <td>0.979</td>\n",
       "      <td>1.000</td>\n",
       "      <td>0.680</td>\n",
       "      <td>0.196</td>\n",
       "      <td>0.185</td>\n",
       "      <td>0.183</td>\n",
       "      <td>0.705</td>\n",
       "      <td>0.395</td>\n",
       "    </tr>\n",
       "    <tr>\n",
       "      <th>BloodPressureSqrt</th>\n",
       "      <td>0.093</td>\n",
       "      <td>0.101</td>\n",
       "      <td>0.958</td>\n",
       "      <td>0.244</td>\n",
       "      <td>0.123</td>\n",
       "      <td>0.246</td>\n",
       "      <td>0.050</td>\n",
       "      <td>0.166</td>\n",
       "      <td>0.016</td>\n",
       "      <td>0.805</td>\n",
       "      <td>0.680</td>\n",
       "      <td>1.000</td>\n",
       "      <td>0.105</td>\n",
       "      <td>0.103</td>\n",
       "      <td>0.088</td>\n",
       "      <td>0.695</td>\n",
       "      <td>0.250</td>\n",
       "    </tr>\n",
       "    <tr>\n",
       "      <th>GlucoseSquare</th>\n",
       "      <td>0.127</td>\n",
       "      <td>0.979</td>\n",
       "      <td>0.153</td>\n",
       "      <td>0.072</td>\n",
       "      <td>0.335</td>\n",
       "      <td>0.226</td>\n",
       "      <td>0.146</td>\n",
       "      <td>0.268</td>\n",
       "      <td>0.484</td>\n",
       "      <td>0.191</td>\n",
       "      <td>0.196</td>\n",
       "      <td>0.105</td>\n",
       "      <td>1.000</td>\n",
       "      <td>0.991</td>\n",
       "      <td>0.896</td>\n",
       "      <td>0.730</td>\n",
       "      <td>0.330</td>\n",
       "    </tr>\n",
       "    <tr>\n",
       "      <th>GlucoseCube</th>\n",
       "      <td>0.120</td>\n",
       "      <td>0.946</td>\n",
       "      <td>0.147</td>\n",
       "      <td>0.080</td>\n",
       "      <td>0.328</td>\n",
       "      <td>0.219</td>\n",
       "      <td>0.150</td>\n",
       "      <td>0.261</td>\n",
       "      <td>0.477</td>\n",
       "      <td>0.181</td>\n",
       "      <td>0.185</td>\n",
       "      <td>0.103</td>\n",
       "      <td>0.991</td>\n",
       "      <td>1.000</td>\n",
       "      <td>0.845</td>\n",
       "      <td>0.707</td>\n",
       "      <td>0.324</td>\n",
       "    </tr>\n",
       "    <tr>\n",
       "      <th>GlucoseSqrt</th>\n",
       "      <td>0.121</td>\n",
       "      <td>0.964</td>\n",
       "      <td>0.137</td>\n",
       "      <td>0.036</td>\n",
       "      <td>0.305</td>\n",
       "      <td>0.193</td>\n",
       "      <td>0.123</td>\n",
       "      <td>0.238</td>\n",
       "      <td>0.406</td>\n",
       "      <td>0.176</td>\n",
       "      <td>0.183</td>\n",
       "      <td>0.088</td>\n",
       "      <td>0.896</td>\n",
       "      <td>0.845</td>\n",
       "      <td>1.000</td>\n",
       "      <td>0.702</td>\n",
       "      <td>0.284</td>\n",
       "    </tr>\n",
       "    <tr>\n",
       "      <th>GlucoseBloodPressure</th>\n",
       "      <td>0.180</td>\n",
       "      <td>0.739</td>\n",
       "      <td>0.760</td>\n",
       "      <td>0.171</td>\n",
       "      <td>0.267</td>\n",
       "      <td>0.305</td>\n",
       "      <td>0.116</td>\n",
       "      <td>0.325</td>\n",
       "      <td>0.333</td>\n",
       "      <td>0.752</td>\n",
       "      <td>0.705</td>\n",
       "      <td>0.695</td>\n",
       "      <td>0.730</td>\n",
       "      <td>0.707</td>\n",
       "      <td>0.702</td>\n",
       "      <td>1.000</td>\n",
       "      <td>0.415</td>\n",
       "    </tr>\n",
       "    <tr>\n",
       "      <th>AgeBMI</th>\n",
       "      <td>0.464</td>\n",
       "      <td>0.321</td>\n",
       "      <td>0.334</td>\n",
       "      <td>0.121</td>\n",
       "      <td>0.069</td>\n",
       "      <td>0.578</td>\n",
       "      <td>0.098</td>\n",
       "      <td>0.809</td>\n",
       "      <td>0.358</td>\n",
       "      <td>0.392</td>\n",
       "      <td>0.395</td>\n",
       "      <td>0.250</td>\n",
       "      <td>0.330</td>\n",
       "      <td>0.324</td>\n",
       "      <td>0.284</td>\n",
       "      <td>0.415</td>\n",
       "      <td>1.000</td>\n",
       "    </tr>\n",
       "  </tbody>\n",
       "</table>\n",
       "</div>"
      ],
      "text/plain": [
       "                          Pregnancies  Glucose  BloodPressure  SkinThickness  \\\n",
       "Pregnancies                     1.000    0.129          0.141         -0.082   \n",
       "Glucose                         0.129    1.000          0.153          0.057   \n",
       "BloodPressure                   0.141    0.153          1.000          0.207   \n",
       "SkinThickness                  -0.082    0.057          0.207          1.000   \n",
       "Insulin                        -0.074    0.331          0.089          0.437   \n",
       "BMI                             0.018    0.221          0.282          0.393   \n",
       "DiabetesPedigreeFunction       -0.034    0.137          0.041          0.184   \n",
       "Age                             0.544    0.264          0.240         -0.114   \n",
       "Outcome                         0.222    0.467          0.065          0.075   \n",
       "BloodPressureSquare             0.175    0.193          0.939          0.143   \n",
       "BloodPressureCube               0.176    0.199          0.854          0.100   \n",
       "BloodPressureSqrt               0.093    0.101          0.958          0.244   \n",
       "GlucoseSquare                   0.127    0.979          0.153          0.072   \n",
       "GlucoseCube                     0.120    0.946          0.147          0.080   \n",
       "GlucoseSqrt                     0.121    0.964          0.137          0.036   \n",
       "GlucoseBloodPressure            0.180    0.739          0.760          0.171   \n",
       "AgeBMI                          0.464    0.321          0.334          0.121   \n",
       "\n",
       "                          Insulin   BMI  DiabetesPedigreeFunction    Age  \\\n",
       "Pregnancies                -0.074 0.018                    -0.034  0.544   \n",
       "Glucose                     0.331 0.221                     0.137  0.264   \n",
       "BloodPressure               0.089 0.282                     0.041  0.240   \n",
       "SkinThickness               0.437 0.393                     0.184 -0.114   \n",
       "Insulin                     1.000 0.198                     0.185 -0.042   \n",
       "BMI                         0.198 1.000                     0.141  0.036   \n",
       "DiabetesPedigreeFunction    0.185 0.141                     1.000  0.034   \n",
       "Age                        -0.042 0.036                     0.034  1.000   \n",
       "Outcome                     0.131 0.293                     0.174  0.238   \n",
       "BloodPressureSquare         0.041 0.297                     0.027  0.293   \n",
       "BloodPressureCube           0.015 0.288                     0.017  0.296   \n",
       "BloodPressureSqrt           0.123 0.246                     0.050  0.166   \n",
       "GlucoseSquare               0.335 0.226                     0.146  0.268   \n",
       "GlucoseCube                 0.328 0.219                     0.150  0.261   \n",
       "GlucoseSqrt                 0.305 0.193                     0.123  0.238   \n",
       "GlucoseBloodPressure        0.267 0.305                     0.116  0.325   \n",
       "AgeBMI                      0.069 0.578                     0.098  0.809   \n",
       "\n",
       "                          Outcome  BloodPressureSquare  BloodPressureCube  \\\n",
       "Pregnancies                 0.222                0.175              0.176   \n",
       "Glucose                     0.467                0.193              0.199   \n",
       "BloodPressure               0.065                0.939              0.854   \n",
       "SkinThickness               0.075                0.143              0.100   \n",
       "Insulin                     0.131                0.041              0.015   \n",
       "BMI                         0.293                0.297              0.288   \n",
       "DiabetesPedigreeFunction    0.174                0.027              0.017   \n",
       "Age                         0.238                0.293              0.296   \n",
       "Outcome                     1.000                0.113              0.128   \n",
       "BloodPressureSquare         0.113                1.000              0.979   \n",
       "BloodPressureCube           0.128                0.979              1.000   \n",
       "BloodPressureSqrt           0.016                0.805              0.680   \n",
       "GlucoseSquare               0.484                0.191              0.196   \n",
       "GlucoseCube                 0.477                0.181              0.185   \n",
       "GlucoseSqrt                 0.406                0.176              0.183   \n",
       "GlucoseBloodPressure        0.333                0.752              0.705   \n",
       "AgeBMI                      0.358                0.392              0.395   \n",
       "\n",
       "                          BloodPressureSqrt  GlucoseSquare  GlucoseCube  \\\n",
       "Pregnancies                           0.093          0.127        0.120   \n",
       "Glucose                               0.101          0.979        0.946   \n",
       "BloodPressure                         0.958          0.153        0.147   \n",
       "SkinThickness                         0.244          0.072        0.080   \n",
       "Insulin                               0.123          0.335        0.328   \n",
       "BMI                                   0.246          0.226        0.219   \n",
       "DiabetesPedigreeFunction              0.050          0.146        0.150   \n",
       "Age                                   0.166          0.268        0.261   \n",
       "Outcome                               0.016          0.484        0.477   \n",
       "BloodPressureSquare                   0.805          0.191        0.181   \n",
       "BloodPressureCube                     0.680          0.196        0.185   \n",
       "BloodPressureSqrt                     1.000          0.105        0.103   \n",
       "GlucoseSquare                         0.105          1.000        0.991   \n",
       "GlucoseCube                           0.103          0.991        1.000   \n",
       "GlucoseSqrt                           0.088          0.896        0.845   \n",
       "GlucoseBloodPressure                  0.695          0.730        0.707   \n",
       "AgeBMI                                0.250          0.330        0.324   \n",
       "\n",
       "                          GlucoseSqrt  GlucoseBloodPressure  AgeBMI  \n",
       "Pregnancies                     0.121                 0.180   0.464  \n",
       "Glucose                         0.964                 0.739   0.321  \n",
       "BloodPressure                   0.137                 0.760   0.334  \n",
       "SkinThickness                   0.036                 0.171   0.121  \n",
       "Insulin                         0.305                 0.267   0.069  \n",
       "BMI                             0.193                 0.305   0.578  \n",
       "DiabetesPedigreeFunction        0.123                 0.116   0.098  \n",
       "Age                             0.238                 0.325   0.809  \n",
       "Outcome                         0.406                 0.333   0.358  \n",
       "BloodPressureSquare             0.176                 0.752   0.392  \n",
       "BloodPressureCube               0.183                 0.705   0.395  \n",
       "BloodPressureSqrt               0.088                 0.695   0.250  \n",
       "GlucoseSquare                   0.896                 0.730   0.330  \n",
       "GlucoseCube                     0.845                 0.707   0.324  \n",
       "GlucoseSqrt                     1.000                 0.702   0.284  \n",
       "GlucoseBloodPressure            0.702                 1.000   0.415  \n",
       "AgeBMI                          0.284                 0.415   1.000  "
      ]
     },
     "execution_count": 303,
     "metadata": {},
     "output_type": "execute_result"
    }
   ],
   "source": [
    "df[numerical_feature_columns].corr() # correlation"
   ]
  },
  {
   "cell_type": "code",
   "execution_count": 304,
   "id": "25b46419",
   "metadata": {},
   "outputs": [
    {
     "data": {
      "text/html": [
       "<div>\n",
       "<style scoped>\n",
       "    .dataframe tbody tr th:only-of-type {\n",
       "        vertical-align: middle;\n",
       "    }\n",
       "\n",
       "    .dataframe tbody tr th {\n",
       "        vertical-align: top;\n",
       "    }\n",
       "\n",
       "    .dataframe thead th {\n",
       "        text-align: right;\n",
       "    }\n",
       "</style>\n",
       "<table border=\"1\" class=\"dataframe\">\n",
       "  <thead>\n",
       "    <tr style=\"text-align: right;\">\n",
       "      <th></th>\n",
       "      <th>Pregnancies</th>\n",
       "      <th>Glucose</th>\n",
       "      <th>BloodPressure</th>\n",
       "      <th>SkinThickness</th>\n",
       "      <th>Insulin</th>\n",
       "      <th>BMI</th>\n",
       "      <th>DiabetesPedigreeFunction</th>\n",
       "      <th>Age</th>\n",
       "      <th>Outcome</th>\n",
       "      <th>BloodPressureSquare</th>\n",
       "      <th>BloodPressureCube</th>\n",
       "      <th>BloodPressureSqrt</th>\n",
       "      <th>GlucoseSquare</th>\n",
       "      <th>GlucoseCube</th>\n",
       "      <th>GlucoseSqrt</th>\n",
       "      <th>GlucoseBloodPressure</th>\n",
       "      <th>AgeBMI</th>\n",
       "    </tr>\n",
       "  </thead>\n",
       "  <tbody>\n",
       "    <tr>\n",
       "      <th>Outcome</th>\n",
       "      <td>0.222</td>\n",
       "      <td>0.467</td>\n",
       "      <td>0.065</td>\n",
       "      <td>0.075</td>\n",
       "      <td>0.131</td>\n",
       "      <td>0.293</td>\n",
       "      <td>0.174</td>\n",
       "      <td>0.238</td>\n",
       "      <td>1.000</td>\n",
       "      <td>0.113</td>\n",
       "      <td>0.128</td>\n",
       "      <td>0.016</td>\n",
       "      <td>0.484</td>\n",
       "      <td>0.477</td>\n",
       "      <td>0.406</td>\n",
       "      <td>0.333</td>\n",
       "      <td>0.358</td>\n",
       "    </tr>\n",
       "    <tr>\n",
       "      <th>GlucoseSquare</th>\n",
       "      <td>0.127</td>\n",
       "      <td>0.979</td>\n",
       "      <td>0.153</td>\n",
       "      <td>0.072</td>\n",
       "      <td>0.335</td>\n",
       "      <td>0.226</td>\n",
       "      <td>0.146</td>\n",
       "      <td>0.268</td>\n",
       "      <td>0.484</td>\n",
       "      <td>0.191</td>\n",
       "      <td>0.196</td>\n",
       "      <td>0.105</td>\n",
       "      <td>1.000</td>\n",
       "      <td>0.991</td>\n",
       "      <td>0.896</td>\n",
       "      <td>0.730</td>\n",
       "      <td>0.330</td>\n",
       "    </tr>\n",
       "    <tr>\n",
       "      <th>GlucoseCube</th>\n",
       "      <td>0.120</td>\n",
       "      <td>0.946</td>\n",
       "      <td>0.147</td>\n",
       "      <td>0.080</td>\n",
       "      <td>0.328</td>\n",
       "      <td>0.219</td>\n",
       "      <td>0.150</td>\n",
       "      <td>0.261</td>\n",
       "      <td>0.477</td>\n",
       "      <td>0.181</td>\n",
       "      <td>0.185</td>\n",
       "      <td>0.103</td>\n",
       "      <td>0.991</td>\n",
       "      <td>1.000</td>\n",
       "      <td>0.845</td>\n",
       "      <td>0.707</td>\n",
       "      <td>0.324</td>\n",
       "    </tr>\n",
       "    <tr>\n",
       "      <th>Glucose</th>\n",
       "      <td>0.129</td>\n",
       "      <td>1.000</td>\n",
       "      <td>0.153</td>\n",
       "      <td>0.057</td>\n",
       "      <td>0.331</td>\n",
       "      <td>0.221</td>\n",
       "      <td>0.137</td>\n",
       "      <td>0.264</td>\n",
       "      <td>0.467</td>\n",
       "      <td>0.193</td>\n",
       "      <td>0.199</td>\n",
       "      <td>0.101</td>\n",
       "      <td>0.979</td>\n",
       "      <td>0.946</td>\n",
       "      <td>0.964</td>\n",
       "      <td>0.739</td>\n",
       "      <td>0.321</td>\n",
       "    </tr>\n",
       "    <tr>\n",
       "      <th>GlucoseSqrt</th>\n",
       "      <td>0.121</td>\n",
       "      <td>0.964</td>\n",
       "      <td>0.137</td>\n",
       "      <td>0.036</td>\n",
       "      <td>0.305</td>\n",
       "      <td>0.193</td>\n",
       "      <td>0.123</td>\n",
       "      <td>0.238</td>\n",
       "      <td>0.406</td>\n",
       "      <td>0.176</td>\n",
       "      <td>0.183</td>\n",
       "      <td>0.088</td>\n",
       "      <td>0.896</td>\n",
       "      <td>0.845</td>\n",
       "      <td>1.000</td>\n",
       "      <td>0.702</td>\n",
       "      <td>0.284</td>\n",
       "    </tr>\n",
       "    <tr>\n",
       "      <th>AgeBMI</th>\n",
       "      <td>0.464</td>\n",
       "      <td>0.321</td>\n",
       "      <td>0.334</td>\n",
       "      <td>0.121</td>\n",
       "      <td>0.069</td>\n",
       "      <td>0.578</td>\n",
       "      <td>0.098</td>\n",
       "      <td>0.809</td>\n",
       "      <td>0.358</td>\n",
       "      <td>0.392</td>\n",
       "      <td>0.395</td>\n",
       "      <td>0.250</td>\n",
       "      <td>0.330</td>\n",
       "      <td>0.324</td>\n",
       "      <td>0.284</td>\n",
       "      <td>0.415</td>\n",
       "      <td>1.000</td>\n",
       "    </tr>\n",
       "    <tr>\n",
       "      <th>GlucoseBloodPressure</th>\n",
       "      <td>0.180</td>\n",
       "      <td>0.739</td>\n",
       "      <td>0.760</td>\n",
       "      <td>0.171</td>\n",
       "      <td>0.267</td>\n",
       "      <td>0.305</td>\n",
       "      <td>0.116</td>\n",
       "      <td>0.325</td>\n",
       "      <td>0.333</td>\n",
       "      <td>0.752</td>\n",
       "      <td>0.705</td>\n",
       "      <td>0.695</td>\n",
       "      <td>0.730</td>\n",
       "      <td>0.707</td>\n",
       "      <td>0.702</td>\n",
       "      <td>1.000</td>\n",
       "      <td>0.415</td>\n",
       "    </tr>\n",
       "    <tr>\n",
       "      <th>BMI</th>\n",
       "      <td>0.018</td>\n",
       "      <td>0.221</td>\n",
       "      <td>0.282</td>\n",
       "      <td>0.393</td>\n",
       "      <td>0.198</td>\n",
       "      <td>1.000</td>\n",
       "      <td>0.141</td>\n",
       "      <td>0.036</td>\n",
       "      <td>0.293</td>\n",
       "      <td>0.297</td>\n",
       "      <td>0.288</td>\n",
       "      <td>0.246</td>\n",
       "      <td>0.226</td>\n",
       "      <td>0.219</td>\n",
       "      <td>0.193</td>\n",
       "      <td>0.305</td>\n",
       "      <td>0.578</td>\n",
       "    </tr>\n",
       "    <tr>\n",
       "      <th>Age</th>\n",
       "      <td>0.544</td>\n",
       "      <td>0.264</td>\n",
       "      <td>0.240</td>\n",
       "      <td>-0.114</td>\n",
       "      <td>-0.042</td>\n",
       "      <td>0.036</td>\n",
       "      <td>0.034</td>\n",
       "      <td>1.000</td>\n",
       "      <td>0.238</td>\n",
       "      <td>0.293</td>\n",
       "      <td>0.296</td>\n",
       "      <td>0.166</td>\n",
       "      <td>0.268</td>\n",
       "      <td>0.261</td>\n",
       "      <td>0.238</td>\n",
       "      <td>0.325</td>\n",
       "      <td>0.809</td>\n",
       "    </tr>\n",
       "    <tr>\n",
       "      <th>Pregnancies</th>\n",
       "      <td>1.000</td>\n",
       "      <td>0.129</td>\n",
       "      <td>0.141</td>\n",
       "      <td>-0.082</td>\n",
       "      <td>-0.074</td>\n",
       "      <td>0.018</td>\n",
       "      <td>-0.034</td>\n",
       "      <td>0.544</td>\n",
       "      <td>0.222</td>\n",
       "      <td>0.175</td>\n",
       "      <td>0.176</td>\n",
       "      <td>0.093</td>\n",
       "      <td>0.127</td>\n",
       "      <td>0.120</td>\n",
       "      <td>0.121</td>\n",
       "      <td>0.180</td>\n",
       "      <td>0.464</td>\n",
       "    </tr>\n",
       "    <tr>\n",
       "      <th>DiabetesPedigreeFunction</th>\n",
       "      <td>-0.034</td>\n",
       "      <td>0.137</td>\n",
       "      <td>0.041</td>\n",
       "      <td>0.184</td>\n",
       "      <td>0.185</td>\n",
       "      <td>0.141</td>\n",
       "      <td>1.000</td>\n",
       "      <td>0.034</td>\n",
       "      <td>0.174</td>\n",
       "      <td>0.027</td>\n",
       "      <td>0.017</td>\n",
       "      <td>0.050</td>\n",
       "      <td>0.146</td>\n",
       "      <td>0.150</td>\n",
       "      <td>0.123</td>\n",
       "      <td>0.116</td>\n",
       "      <td>0.098</td>\n",
       "    </tr>\n",
       "    <tr>\n",
       "      <th>Insulin</th>\n",
       "      <td>-0.074</td>\n",
       "      <td>0.331</td>\n",
       "      <td>0.089</td>\n",
       "      <td>0.437</td>\n",
       "      <td>1.000</td>\n",
       "      <td>0.198</td>\n",
       "      <td>0.185</td>\n",
       "      <td>-0.042</td>\n",
       "      <td>0.131</td>\n",
       "      <td>0.041</td>\n",
       "      <td>0.015</td>\n",
       "      <td>0.123</td>\n",
       "      <td>0.335</td>\n",
       "      <td>0.328</td>\n",
       "      <td>0.305</td>\n",
       "      <td>0.267</td>\n",
       "      <td>0.069</td>\n",
       "    </tr>\n",
       "    <tr>\n",
       "      <th>BloodPressureCube</th>\n",
       "      <td>0.176</td>\n",
       "      <td>0.199</td>\n",
       "      <td>0.854</td>\n",
       "      <td>0.100</td>\n",
       "      <td>0.015</td>\n",
       "      <td>0.288</td>\n",
       "      <td>0.017</td>\n",
       "      <td>0.296</td>\n",
       "      <td>0.128</td>\n",
       "      <td>0.979</td>\n",
       "      <td>1.000</td>\n",
       "      <td>0.680</td>\n",
       "      <td>0.196</td>\n",
       "      <td>0.185</td>\n",
       "      <td>0.183</td>\n",
       "      <td>0.705</td>\n",
       "      <td>0.395</td>\n",
       "    </tr>\n",
       "    <tr>\n",
       "      <th>BloodPressureSquare</th>\n",
       "      <td>0.175</td>\n",
       "      <td>0.193</td>\n",
       "      <td>0.939</td>\n",
       "      <td>0.143</td>\n",
       "      <td>0.041</td>\n",
       "      <td>0.297</td>\n",
       "      <td>0.027</td>\n",
       "      <td>0.293</td>\n",
       "      <td>0.113</td>\n",
       "      <td>1.000</td>\n",
       "      <td>0.979</td>\n",
       "      <td>0.805</td>\n",
       "      <td>0.191</td>\n",
       "      <td>0.181</td>\n",
       "      <td>0.176</td>\n",
       "      <td>0.752</td>\n",
       "      <td>0.392</td>\n",
       "    </tr>\n",
       "    <tr>\n",
       "      <th>SkinThickness</th>\n",
       "      <td>-0.082</td>\n",
       "      <td>0.057</td>\n",
       "      <td>0.207</td>\n",
       "      <td>1.000</td>\n",
       "      <td>0.437</td>\n",
       "      <td>0.393</td>\n",
       "      <td>0.184</td>\n",
       "      <td>-0.114</td>\n",
       "      <td>0.075</td>\n",
       "      <td>0.143</td>\n",
       "      <td>0.100</td>\n",
       "      <td>0.244</td>\n",
       "      <td>0.072</td>\n",
       "      <td>0.080</td>\n",
       "      <td>0.036</td>\n",
       "      <td>0.171</td>\n",
       "      <td>0.121</td>\n",
       "    </tr>\n",
       "  </tbody>\n",
       "</table>\n",
       "</div>"
      ],
      "text/plain": [
       "                          Pregnancies  Glucose  BloodPressure  SkinThickness  \\\n",
       "Outcome                         0.222    0.467          0.065          0.075   \n",
       "GlucoseSquare                   0.127    0.979          0.153          0.072   \n",
       "GlucoseCube                     0.120    0.946          0.147          0.080   \n",
       "Glucose                         0.129    1.000          0.153          0.057   \n",
       "GlucoseSqrt                     0.121    0.964          0.137          0.036   \n",
       "AgeBMI                          0.464    0.321          0.334          0.121   \n",
       "GlucoseBloodPressure            0.180    0.739          0.760          0.171   \n",
       "BMI                             0.018    0.221          0.282          0.393   \n",
       "Age                             0.544    0.264          0.240         -0.114   \n",
       "Pregnancies                     1.000    0.129          0.141         -0.082   \n",
       "DiabetesPedigreeFunction       -0.034    0.137          0.041          0.184   \n",
       "Insulin                        -0.074    0.331          0.089          0.437   \n",
       "BloodPressureCube               0.176    0.199          0.854          0.100   \n",
       "BloodPressureSquare             0.175    0.193          0.939          0.143   \n",
       "SkinThickness                  -0.082    0.057          0.207          1.000   \n",
       "\n",
       "                          Insulin   BMI  DiabetesPedigreeFunction    Age  \\\n",
       "Outcome                     0.131 0.293                     0.174  0.238   \n",
       "GlucoseSquare               0.335 0.226                     0.146  0.268   \n",
       "GlucoseCube                 0.328 0.219                     0.150  0.261   \n",
       "Glucose                     0.331 0.221                     0.137  0.264   \n",
       "GlucoseSqrt                 0.305 0.193                     0.123  0.238   \n",
       "AgeBMI                      0.069 0.578                     0.098  0.809   \n",
       "GlucoseBloodPressure        0.267 0.305                     0.116  0.325   \n",
       "BMI                         0.198 1.000                     0.141  0.036   \n",
       "Age                        -0.042 0.036                     0.034  1.000   \n",
       "Pregnancies                -0.074 0.018                    -0.034  0.544   \n",
       "DiabetesPedigreeFunction    0.185 0.141                     1.000  0.034   \n",
       "Insulin                     1.000 0.198                     0.185 -0.042   \n",
       "BloodPressureCube           0.015 0.288                     0.017  0.296   \n",
       "BloodPressureSquare         0.041 0.297                     0.027  0.293   \n",
       "SkinThickness               0.437 0.393                     0.184 -0.114   \n",
       "\n",
       "                          Outcome  BloodPressureSquare  BloodPressureCube  \\\n",
       "Outcome                     1.000                0.113              0.128   \n",
       "GlucoseSquare               0.484                0.191              0.196   \n",
       "GlucoseCube                 0.477                0.181              0.185   \n",
       "Glucose                     0.467                0.193              0.199   \n",
       "GlucoseSqrt                 0.406                0.176              0.183   \n",
       "AgeBMI                      0.358                0.392              0.395   \n",
       "GlucoseBloodPressure        0.333                0.752              0.705   \n",
       "BMI                         0.293                0.297              0.288   \n",
       "Age                         0.238                0.293              0.296   \n",
       "Pregnancies                 0.222                0.175              0.176   \n",
       "DiabetesPedigreeFunction    0.174                0.027              0.017   \n",
       "Insulin                     0.131                0.041              0.015   \n",
       "BloodPressureCube           0.128                0.979              1.000   \n",
       "BloodPressureSquare         0.113                1.000              0.979   \n",
       "SkinThickness               0.075                0.143              0.100   \n",
       "\n",
       "                          BloodPressureSqrt  GlucoseSquare  GlucoseCube  \\\n",
       "Outcome                               0.016          0.484        0.477   \n",
       "GlucoseSquare                         0.105          1.000        0.991   \n",
       "GlucoseCube                           0.103          0.991        1.000   \n",
       "Glucose                               0.101          0.979        0.946   \n",
       "GlucoseSqrt                           0.088          0.896        0.845   \n",
       "AgeBMI                                0.250          0.330        0.324   \n",
       "GlucoseBloodPressure                  0.695          0.730        0.707   \n",
       "BMI                                   0.246          0.226        0.219   \n",
       "Age                                   0.166          0.268        0.261   \n",
       "Pregnancies                           0.093          0.127        0.120   \n",
       "DiabetesPedigreeFunction              0.050          0.146        0.150   \n",
       "Insulin                               0.123          0.335        0.328   \n",
       "BloodPressureCube                     0.680          0.196        0.185   \n",
       "BloodPressureSquare                   0.805          0.191        0.181   \n",
       "SkinThickness                         0.244          0.072        0.080   \n",
       "\n",
       "                          GlucoseSqrt  GlucoseBloodPressure  AgeBMI  \n",
       "Outcome                         0.406                 0.333   0.358  \n",
       "GlucoseSquare                   0.896                 0.730   0.330  \n",
       "GlucoseCube                     0.845                 0.707   0.324  \n",
       "Glucose                         0.964                 0.739   0.321  \n",
       "GlucoseSqrt                     1.000                 0.702   0.284  \n",
       "AgeBMI                          0.284                 0.415   1.000  \n",
       "GlucoseBloodPressure            0.702                 1.000   0.415  \n",
       "BMI                             0.193                 0.305   0.578  \n",
       "Age                             0.238                 0.325   0.809  \n",
       "Pregnancies                     0.121                 0.180   0.464  \n",
       "DiabetesPedigreeFunction        0.123                 0.116   0.098  \n",
       "Insulin                         0.305                 0.267   0.069  \n",
       "BloodPressureCube               0.183                 0.705   0.395  \n",
       "BloodPressureSquare             0.176                 0.752   0.392  \n",
       "SkinThickness                   0.036                 0.171   0.121  "
      ]
     },
     "execution_count": 304,
     "metadata": {},
     "output_type": "execute_result"
    }
   ],
   "source": [
    "k= 15\n",
    "df[numerical_feature_columns].corr().nlargest(k, target) # top 15 based on Outcome column"
   ]
  },
  {
   "cell_type": "code",
   "execution_count": 305,
   "id": "043c1514",
   "metadata": {},
   "outputs": [
    {
     "data": {
      "text/plain": [
       "<AxesSubplot:>"
      ]
     },
     "execution_count": 305,
     "metadata": {},
     "output_type": "execute_result"
    },
    {
     "data": {
      "image/png": "[encoded data removed]",
      "text/plain": [
       "<Figure size 720x432 with 2 Axes>"
      ]
     },
     "metadata": {
      "needs_background": "light"
     },
     "output_type": "display_data"
    }
   ],
   "source": [
    "k = 15     # number of variables for heatmap\n",
    "\n",
    "cols = df[numerical_feature_columns].corr().nlargest(k, 'Outcome')['Outcome'].index\n",
    "\n",
    "cm = df[cols].corr()\n",
    "\n",
    "plt.figure(figsize=(10,6))\n",
    "sns.heatmap(cm, annot=True, cmap = 'viridis')"
   ]
  },
  {
   "cell_type": "code",
   "execution_count": 306,
   "id": "d3dc1e34",
   "metadata": {},
   "outputs": [],
   "source": [
    "X = df.loc[:, df.columns != target]\n",
    "y = df.loc[:, df.columns == target]"
   ]
  },
  {
   "cell_type": "code",
   "execution_count": 307,
   "id": "6835d1dd",
   "metadata": {},
   "outputs": [
    {
     "data": {
      "text/plain": [
       "(768, 16)"
      ]
     },
     "execution_count": 307,
     "metadata": {},
     "output_type": "execute_result"
    }
   ],
   "source": [
    "X.shape"
   ]
  },
  {
   "cell_type": "code",
   "execution_count": 308,
   "id": "e1bb3366",
   "metadata": {},
   "outputs": [
    {
     "data": {
      "text/plain": [
       "(768, 1)"
      ]
     },
     "execution_count": 308,
     "metadata": {},
     "output_type": "execute_result"
    }
   ],
   "source": [
    "y.shape"
   ]
  },
  {
   "cell_type": "code",
   "execution_count": 309,
   "id": "9f17cd60",
   "metadata": {},
   "outputs": [],
   "source": [
    "x_train, x_test, y_train, y_test = train_test_split(X, y, \n",
    "                                                    test_size=0.33, \n",
    "                                                    random_state=8)"
   ]
  },
  {
   "cell_type": "code",
   "execution_count": 310,
   "id": "4b0a06a5",
   "metadata": {},
   "outputs": [],
   "source": [
    "clf_lr = LogisticRegression()      \n",
    "lr_baseline_model = clf_lr.fit(x_train,y_train)"
   ]
  },
  {
   "cell_type": "code",
   "execution_count": 311,
   "id": "6901641c",
   "metadata": {},
   "outputs": [
    {
     "name": "stdout",
     "output_type": "stream",
     "text": [
      "Accuracy is:  0.7598425196850394\n",
      "F1 score is:  0.6013071895424835\n",
      "\n",
      "\n",
      "Actual      0   1\n",
      "Predicted        \n",
      "0          39  23\n",
      "1          15   8\n"
     ]
    },
    {
     "data": {
      "text/plain": [
       "1"
      ]
     },
     "execution_count": 311,
     "metadata": {},
     "output_type": "execute_result"
    }
   ],
   "source": [
    "generate_accuracy_and_heatmap(lr_baseline_model, x_test, y_test)"
   ]
  },
  {
   "cell_type": "markdown",
   "id": "9f918b80",
   "metadata": {},
   "source": [
    "## Univariate feature selection"
   ]
  },
  {
   "cell_type": "markdown",
   "id": "8253cf53",
   "metadata": {},
   "source": [
    "#### ANOVA f-test Feature Selection\n",
    "\n",
    "\n",
    "ANOVA is an acronym for “analysis of variance” and is a parametric statistical hypothesis test for determining whether the means from two or more samples of data (often three or more) come from the same distribution or not.\n",
    "\n",
    "An F-statistic, or F-test, is a class of statistical tests that calculate the ratio between variances values, such as the variance from two different samples or the explained and unexplained variance by a statistical test, like ANOVA. The ANOVA method is a type of F-statistic referred to here as an ANOVA f-test.\n",
    "\n",
    "Importantly, ANOVA is used when one variable is numeric and one is categorical, such as numerical input variables and a classification target variable in a classification task.\n",
    "\n",
    "The results of this test can be used for feature selection where those features that are independent of the target variable can be removed from the dataset.\n",
    "\n",
    "https://machinelearningmastery.com/feature-selection-with-numerical-input-data/"
   ]
  },
  {
   "cell_type": "markdown",
   "id": "e77efa95",
   "metadata": {},
   "source": [
    "### Univariate feature selection using Select KBest using ANNOVA"
   ]
  },
  {
   "cell_type": "markdown",
   "id": "43b2e9f3",
   "metadata": {},
   "source": [
    "Pick a feature and do ANNOVA test with the target variable. Find out it's Statistical Significance of the test of independence.\n",
    "\n",
    "Keep the feature based on the strength of the significance."
   ]
  },
  {
   "cell_type": "code",
   "execution_count": 312,
   "id": "739d61cf",
   "metadata": {},
   "outputs": [],
   "source": [
    "from sklearn.feature_selection import SelectKBest\n",
    "from sklearn.feature_selection import f_classif"
   ]
  },
  {
   "cell_type": "code",
   "execution_count": 313,
   "id": "c6478add",
   "metadata": {},
   "outputs": [],
   "source": [
    "select_feature1 = SelectKBest(score_func=f_classif, k=5).fit(x_train, y_train)"
   ]
  },
  {
   "cell_type": "code",
   "execution_count": 314,
   "id": "fdb302b8",
   "metadata": {},
   "outputs": [
    {
     "data": {
      "text/html": [
       "<div>\n",
       "<style scoped>\n",
       "    .dataframe tbody tr th:only-of-type {\n",
       "        vertical-align: middle;\n",
       "    }\n",
       "\n",
       "    .dataframe tbody tr th {\n",
       "        vertical-align: top;\n",
       "    }\n",
       "\n",
       "    .dataframe thead th {\n",
       "        text-align: right;\n",
       "    }\n",
       "</style>\n",
       "<table border=\"1\" class=\"dataframe\">\n",
       "  <thead>\n",
       "    <tr style=\"text-align: right;\">\n",
       "      <th></th>\n",
       "      <th>Feature</th>\n",
       "      <th>Significance_Scores</th>\n",
       "    </tr>\n",
       "  </thead>\n",
       "  <tbody>\n",
       "    <tr>\n",
       "      <th>11</th>\n",
       "      <td>GlucoseSquare</td>\n",
       "      <td>154.657</td>\n",
       "    </tr>\n",
       "    <tr>\n",
       "      <th>12</th>\n",
       "      <td>GlucoseCube</td>\n",
       "      <td>145.912</td>\n",
       "    </tr>\n",
       "    <tr>\n",
       "      <th>1</th>\n",
       "      <td>Glucose</td>\n",
       "      <td>145.358</td>\n",
       "    </tr>\n",
       "    <tr>\n",
       "      <th>13</th>\n",
       "      <td>GlucoseSqrt</td>\n",
       "      <td>107.855</td>\n",
       "    </tr>\n",
       "    <tr>\n",
       "      <th>15</th>\n",
       "      <td>AgeBMI</td>\n",
       "      <td>62.604</td>\n",
       "    </tr>\n",
       "    <tr>\n",
       "      <th>14</th>\n",
       "      <td>GlucoseBloodPressure</td>\n",
       "      <td>58.405</td>\n",
       "    </tr>\n",
       "    <tr>\n",
       "      <th>5</th>\n",
       "      <td>BMI</td>\n",
       "      <td>39.859</td>\n",
       "    </tr>\n",
       "    <tr>\n",
       "      <th>6</th>\n",
       "      <td>DiabetesPedigreeFunction</td>\n",
       "      <td>23.324</td>\n",
       "    </tr>\n",
       "    <tr>\n",
       "      <th>7</th>\n",
       "      <td>Age</td>\n",
       "      <td>23.179</td>\n",
       "    </tr>\n",
       "    <tr>\n",
       "      <th>0</th>\n",
       "      <td>Pregnancies</td>\n",
       "      <td>18.793</td>\n",
       "    </tr>\n",
       "    <tr>\n",
       "      <th>9</th>\n",
       "      <td>BloodPressureCube</td>\n",
       "      <td>7.141</td>\n",
       "    </tr>\n",
       "    <tr>\n",
       "      <th>4</th>\n",
       "      <td>Insulin</td>\n",
       "      <td>6.805</td>\n",
       "    </tr>\n",
       "    <tr>\n",
       "      <th>8</th>\n",
       "      <td>BloodPressureSquare</td>\n",
       "      <td>4.962</td>\n",
       "    </tr>\n",
       "    <tr>\n",
       "      <th>3</th>\n",
       "      <td>SkinThickness</td>\n",
       "      <td>3.899</td>\n",
       "    </tr>\n",
       "    <tr>\n",
       "      <th>2</th>\n",
       "      <td>BloodPressure</td>\n",
       "      <td>1.465</td>\n",
       "    </tr>\n",
       "    <tr>\n",
       "      <th>10</th>\n",
       "      <td>BloodPressureSqrt</td>\n",
       "      <td>0.088</td>\n",
       "    </tr>\n",
       "  </tbody>\n",
       "</table>\n",
       "</div>"
      ],
      "text/plain": [
       "                     Feature  Significance_Scores\n",
       "11             GlucoseSquare              154.657\n",
       "12               GlucoseCube              145.912\n",
       "1                    Glucose              145.358\n",
       "13               GlucoseSqrt              107.855\n",
       "15                    AgeBMI               62.604\n",
       "14      GlucoseBloodPressure               58.405\n",
       "5                        BMI               39.859\n",
       "6   DiabetesPedigreeFunction               23.324\n",
       "7                        Age               23.179\n",
       "0                Pregnancies               18.793\n",
       "9          BloodPressureCube                7.141\n",
       "4                    Insulin                6.805\n",
       "8        BloodPressureSquare                4.962\n",
       "3              SkinThickness                3.899\n",
       "2              BloodPressure                1.465\n",
       "10         BloodPressureSqrt                0.088"
      ]
     },
     "execution_count": 314,
     "metadata": {},
     "output_type": "execute_result"
    }
   ],
   "source": [
    "selected_features_df = pd.DataFrame({'Feature':list(x_train.columns),\n",
    "                                     'Significance_Scores':select_feature1.scores_})\n",
    "selected_features_df.sort_values(by='Significance_Scores', ascending=False)"
   ]
  },
  {
   "cell_type": "code",
   "execution_count": 315,
   "id": "9f48d818",
   "metadata": {},
   "outputs": [],
   "source": [
    "x_train_annova = select_feature1.transform(x_train)\n",
    "x_test_annova = select_feature1.transform(x_test)"
   ]
  },
  {
   "cell_type": "code",
   "execution_count": 316,
   "id": "5eb17652",
   "metadata": {},
   "outputs": [
    {
     "data": {
      "text/html": [
       "<div>\n",
       "<style scoped>\n",
       "    .dataframe tbody tr th:only-of-type {\n",
       "        vertical-align: middle;\n",
       "    }\n",
       "\n",
       "    .dataframe tbody tr th {\n",
       "        vertical-align: top;\n",
       "    }\n",
       "\n",
       "    .dataframe thead th {\n",
       "        text-align: right;\n",
       "    }\n",
       "</style>\n",
       "<table border=\"1\" class=\"dataframe\">\n",
       "  <thead>\n",
       "    <tr style=\"text-align: right;\">\n",
       "      <th></th>\n",
       "      <th>Pregnancies</th>\n",
       "      <th>Glucose</th>\n",
       "      <th>BloodPressure</th>\n",
       "      <th>SkinThickness</th>\n",
       "      <th>Insulin</th>\n",
       "      <th>BMI</th>\n",
       "      <th>DiabetesPedigreeFunction</th>\n",
       "      <th>Age</th>\n",
       "      <th>BloodPressureSquare</th>\n",
       "      <th>BloodPressureCube</th>\n",
       "      <th>BloodPressureSqrt</th>\n",
       "      <th>GlucoseSquare</th>\n",
       "      <th>GlucoseCube</th>\n",
       "      <th>GlucoseSqrt</th>\n",
       "      <th>GlucoseBloodPressure</th>\n",
       "      <th>AgeBMI</th>\n",
       "    </tr>\n",
       "  </thead>\n",
       "  <tbody>\n",
       "    <tr>\n",
       "      <th>60</th>\n",
       "      <td>2</td>\n",
       "      <td>84</td>\n",
       "      <td>0</td>\n",
       "      <td>0</td>\n",
       "      <td>0</td>\n",
       "      <td>0.000</td>\n",
       "      <td>0.304</td>\n",
       "      <td>21</td>\n",
       "      <td>0</td>\n",
       "      <td>0</td>\n",
       "      <td>0.000</td>\n",
       "      <td>7056</td>\n",
       "      <td>592704</td>\n",
       "      <td>9.165</td>\n",
       "      <td>0</td>\n",
       "      <td>0.000</td>\n",
       "    </tr>\n",
       "    <tr>\n",
       "      <th>332</th>\n",
       "      <td>1</td>\n",
       "      <td>180</td>\n",
       "      <td>0</td>\n",
       "      <td>0</td>\n",
       "      <td>0</td>\n",
       "      <td>43.300</td>\n",
       "      <td>0.282</td>\n",
       "      <td>41</td>\n",
       "      <td>0</td>\n",
       "      <td>0</td>\n",
       "      <td>0.000</td>\n",
       "      <td>32400</td>\n",
       "      <td>5832000</td>\n",
       "      <td>13.416</td>\n",
       "      <td>0</td>\n",
       "      <td>1775.300</td>\n",
       "    </tr>\n",
       "    <tr>\n",
       "      <th>421</th>\n",
       "      <td>2</td>\n",
       "      <td>94</td>\n",
       "      <td>68</td>\n",
       "      <td>18</td>\n",
       "      <td>76</td>\n",
       "      <td>26.000</td>\n",
       "      <td>0.561</td>\n",
       "      <td>21</td>\n",
       "      <td>4624</td>\n",
       "      <td>314432</td>\n",
       "      <td>8.246</td>\n",
       "      <td>8836</td>\n",
       "      <td>830584</td>\n",
       "      <td>9.695</td>\n",
       "      <td>6392</td>\n",
       "      <td>546.000</td>\n",
       "    </tr>\n",
       "  </tbody>\n",
       "</table>\n",
       "</div>"
      ],
      "text/plain": [
       "     Pregnancies  Glucose  BloodPressure  SkinThickness  Insulin    BMI  \\\n",
       "60             2       84              0              0        0  0.000   \n",
       "332            1      180              0              0        0 43.300   \n",
       "421            2       94             68             18       76 26.000   \n",
       "\n",
       "     DiabetesPedigreeFunction  Age  BloodPressureSquare  BloodPressureCube  \\\n",
       "60                      0.304   21                    0                  0   \n",
       "332                     0.282   41                    0                  0   \n",
       "421                     0.561   21                 4624             314432   \n",
       "\n",
       "     BloodPressureSqrt  GlucoseSquare  GlucoseCube  GlucoseSqrt  \\\n",
       "60               0.000           7056       592704        9.165   \n",
       "332              0.000          32400      5832000       13.416   \n",
       "421              8.246           8836       830584        9.695   \n",
       "\n",
       "     GlucoseBloodPressure   AgeBMI  \n",
       "60                      0    0.000  \n",
       "332                     0 1775.300  \n",
       "421                  6392  546.000  "
      ]
     },
     "execution_count": 316,
     "metadata": {},
     "output_type": "execute_result"
    }
   ],
   "source": [
    "x_train.head(3)"
   ]
  },
  {
   "cell_type": "code",
   "execution_count": 317,
   "id": "d34a1885",
   "metadata": {},
   "outputs": [
    {
     "data": {
      "text/plain": [
       "array([[8.400e+01, 7.056e+03, 5.927e+05, 9.165e+00, 0.000e+00],\n",
       "       [1.800e+02, 3.240e+04, 5.832e+06, 1.342e+01, 1.775e+03],\n",
       "       [9.400e+01, 8.836e+03, 8.306e+05, 9.695e+00, 5.460e+02],\n",
       "       ...,\n",
       "       [1.580e+02, 2.496e+04, 3.944e+06, 1.257e+01, 1.877e+03],\n",
       "       [1.300e+02, 1.690e+04, 2.197e+06, 1.140e+01, 5.698e+02],\n",
       "       [1.340e+02, 1.796e+04, 2.406e+06, 1.158e+01, 6.647e+02]])"
      ]
     },
     "execution_count": 317,
     "metadata": {},
     "output_type": "execute_result"
    }
   ],
   "source": [
    "x_train_annova # we can see only 5 columns as the value of k was 5"
   ]
  },
  {
   "cell_type": "code",
   "execution_count": 318,
   "id": "5f604a25",
   "metadata": {},
   "outputs": [
    {
     "data": {
      "text/plain": [
       "array([[8.400e+01, 7.056e+03, 5.927e+05, 9.165e+00, 0.000e+00],\n",
       "       [1.800e+02, 3.240e+04, 5.832e+06, 1.342e+01, 1.775e+03],\n",
       "       [9.400e+01, 8.836e+03, 8.306e+05, 9.695e+00, 5.460e+02]])"
      ]
     },
     "execution_count": 318,
     "metadata": {},
     "output_type": "execute_result"
    }
   ],
   "source": [
    "x_train_annova[0:3] # we can see only 5 columns as the value of k was 5"
   ]
  },
  {
   "cell_type": "code",
   "execution_count": 319,
   "id": "7f5df376",
   "metadata": {},
   "outputs": [],
   "source": [
    "lr_annova_model = clf_lr.fit(x_train_annova,y_train) # training model using those 5 features"
   ]
  },
  {
   "cell_type": "code",
   "execution_count": 320,
   "id": "127b2f78",
   "metadata": {},
   "outputs": [
    {
     "name": "stdout",
     "output_type": "stream",
     "text": [
      "Accuracy is:  0.7677165354330708\n",
      "F1 score is:  0.5874125874125875\n",
      "\n",
      "\n",
      "Actual      0   1\n",
      "Predicted        \n",
      "0          43  24\n",
      "1          11   7\n"
     ]
    },
    {
     "data": {
      "text/plain": [
       "1"
      ]
     },
     "execution_count": 320,
     "metadata": {},
     "output_type": "execute_result"
    }
   ],
   "source": [
    "generate_accuracy_and_heatmap(lr_annova_model, x_test_annova, y_test)"
   ]
  },
  {
   "cell_type": "markdown",
   "id": "71074a13",
   "metadata": {},
   "source": [
    "### Recursive feature Elimination (Backward Feature Elimination)\n",
    "\n",
    "It is a backward way of doing feature Elimination/ Feature Selection\n",
    "\n",
    "\n",
    "We start with all feature, build a model check the accuracy score .\n",
    "\n",
    "Next with step function we remove 1 feature , build the model again and check the accuracy score or f-1 score\n"
   ]
  },
  {
   "cell_type": "code",
   "execution_count": 321,
   "id": "85bfbb83",
   "metadata": {},
   "outputs": [],
   "source": [
    "rfe = RFE(estimator=clf_lr, step=1) # step = 1 means removing 1 feauture every iteration\n",
    "rfe = rfe.fit(x_train, y_train)"
   ]
  },
  {
   "cell_type": "code",
   "execution_count": 322,
   "id": "7b2c7f0b",
   "metadata": {},
   "outputs": [
    {
     "data": {
      "text/html": [
       "<div>\n",
       "<style scoped>\n",
       "    .dataframe tbody tr th:only-of-type {\n",
       "        vertical-align: middle;\n",
       "    }\n",
       "\n",
       "    .dataframe tbody tr th {\n",
       "        vertical-align: top;\n",
       "    }\n",
       "\n",
       "    .dataframe thead th {\n",
       "        text-align: right;\n",
       "    }\n",
       "</style>\n",
       "<table border=\"1\" class=\"dataframe\">\n",
       "  <thead>\n",
       "    <tr style=\"text-align: right;\">\n",
       "      <th></th>\n",
       "      <th>Feature</th>\n",
       "      <th>Ranking</th>\n",
       "    </tr>\n",
       "  </thead>\n",
       "  <tbody>\n",
       "    <tr>\n",
       "      <th>0</th>\n",
       "      <td>Pregnancies</td>\n",
       "      <td>1</td>\n",
       "    </tr>\n",
       "    <tr>\n",
       "      <th>1</th>\n",
       "      <td>Glucose</td>\n",
       "      <td>1</td>\n",
       "    </tr>\n",
       "    <tr>\n",
       "      <th>4</th>\n",
       "      <td>Insulin</td>\n",
       "      <td>1</td>\n",
       "    </tr>\n",
       "    <tr>\n",
       "      <th>5</th>\n",
       "      <td>BMI</td>\n",
       "      <td>1</td>\n",
       "    </tr>\n",
       "    <tr>\n",
       "      <th>7</th>\n",
       "      <td>Age</td>\n",
       "      <td>1</td>\n",
       "    </tr>\n",
       "    <tr>\n",
       "      <th>10</th>\n",
       "      <td>BloodPressureSqrt</td>\n",
       "      <td>1</td>\n",
       "    </tr>\n",
       "    <tr>\n",
       "      <th>13</th>\n",
       "      <td>GlucoseSqrt</td>\n",
       "      <td>1</td>\n",
       "    </tr>\n",
       "    <tr>\n",
       "      <th>15</th>\n",
       "      <td>AgeBMI</td>\n",
       "      <td>1</td>\n",
       "    </tr>\n",
       "    <tr>\n",
       "      <th>2</th>\n",
       "      <td>BloodPressure</td>\n",
       "      <td>2</td>\n",
       "    </tr>\n",
       "    <tr>\n",
       "      <th>14</th>\n",
       "      <td>GlucoseBloodPressure</td>\n",
       "      <td>3</td>\n",
       "    </tr>\n",
       "    <tr>\n",
       "      <th>11</th>\n",
       "      <td>GlucoseSquare</td>\n",
       "      <td>4</td>\n",
       "    </tr>\n",
       "    <tr>\n",
       "      <th>8</th>\n",
       "      <td>BloodPressureSquare</td>\n",
       "      <td>5</td>\n",
       "    </tr>\n",
       "    <tr>\n",
       "      <th>9</th>\n",
       "      <td>BloodPressureCube</td>\n",
       "      <td>6</td>\n",
       "    </tr>\n",
       "    <tr>\n",
       "      <th>3</th>\n",
       "      <td>SkinThickness</td>\n",
       "      <td>7</td>\n",
       "    </tr>\n",
       "    <tr>\n",
       "      <th>12</th>\n",
       "      <td>GlucoseCube</td>\n",
       "      <td>8</td>\n",
       "    </tr>\n",
       "    <tr>\n",
       "      <th>6</th>\n",
       "      <td>DiabetesPedigreeFunction</td>\n",
       "      <td>9</td>\n",
       "    </tr>\n",
       "  </tbody>\n",
       "</table>\n",
       "</div>"
      ],
      "text/plain": [
       "                     Feature  Ranking\n",
       "0                Pregnancies        1\n",
       "1                    Glucose        1\n",
       "4                    Insulin        1\n",
       "5                        BMI        1\n",
       "7                        Age        1\n",
       "10         BloodPressureSqrt        1\n",
       "13               GlucoseSqrt        1\n",
       "15                    AgeBMI        1\n",
       "2              BloodPressure        2\n",
       "14      GlucoseBloodPressure        3\n",
       "11             GlucoseSquare        4\n",
       "8        BloodPressureSquare        5\n",
       "9          BloodPressureCube        6\n",
       "3              SkinThickness        7\n",
       "12               GlucoseCube        8\n",
       "6   DiabetesPedigreeFunction        9"
      ]
     },
     "execution_count": 322,
     "metadata": {},
     "output_type": "execute_result"
    }
   ],
   "source": [
    "selected_rfe_features = pd.DataFrame({'Feature':list(x_train.columns),\n",
    "                                      'Ranking':rfe.ranking_})\n",
    "selected_rfe_features.sort_values(by='Ranking')\n",
    "\n",
    "# 1 is most important features"
   ]
  },
  {
   "cell_type": "code",
   "execution_count": 323,
   "id": "de3be837",
   "metadata": {},
   "outputs": [],
   "source": [
    "x_train_rfe = rfe.transform(x_train)\n",
    "x_test_rfe = rfe.transform(x_test)"
   ]
  },
  {
   "cell_type": "code",
   "execution_count": 324,
   "id": "9b44eac9",
   "metadata": {},
   "outputs": [
    {
     "data": {
      "text/plain": [
       "array([[2.000e+00, 8.400e+01, 0.000e+00, 0.000e+00, 2.100e+01, 0.000e+00,\n",
       "        9.165e+00, 0.000e+00],\n",
       "       [1.000e+00, 1.800e+02, 0.000e+00, 4.330e+01, 4.100e+01, 0.000e+00,\n",
       "        1.342e+01, 1.775e+03],\n",
       "       [2.000e+00, 9.400e+01, 7.600e+01, 2.600e+01, 2.100e+01, 8.246e+00,\n",
       "        9.695e+00, 5.460e+02]])"
      ]
     },
     "execution_count": 324,
     "metadata": {},
     "output_type": "execute_result"
    }
   ],
   "source": [
    "x_train_rfe[0:3] # 8 important features where Ranking was 1 "
   ]
  },
  {
   "cell_type": "code",
   "execution_count": 325,
   "id": "8624efe8",
   "metadata": {},
   "outputs": [],
   "source": [
    "lr_rfe_model = clf_lr.fit(x_train_rfe, y_train)"
   ]
  },
  {
   "cell_type": "code",
   "execution_count": 326,
   "id": "475ff6c9",
   "metadata": {},
   "outputs": [
    {
     "name": "stdout",
     "output_type": "stream",
     "text": [
      "Accuracy is:  0.7874015748031497\n",
      "F1 score is:  0.6538461538461539\n",
      "\n",
      "\n",
      "Actual      0   1\n",
      "Predicted        \n",
      "0          35  23\n",
      "1          19   8\n"
     ]
    },
    {
     "data": {
      "text/plain": [
       "1"
      ]
     },
     "execution_count": 326,
     "metadata": {},
     "output_type": "execute_result"
    }
   ],
   "source": [
    "generate_accuracy_and_heatmap(lr_rfe_model, x_test_rfe, y_test)"
   ]
  },
  {
   "cell_type": "raw",
   "id": "deef2e3f",
   "metadata": {},
   "source": [
    "select_feature = SelectKBest(chi2, k=5).fit(x_train, y_train)"
   ]
  },
  {
   "cell_type": "raw",
   "id": "dc9e1f0d",
   "metadata": {},
   "source": [
    "selected_features_df = pd.DataFrame({'Feature':list(x_train.columns),\n",
    "                                     'Scores':select_feature.scores_})\n",
    "selected_features_df.sort_values(by='Scores', ascending=False)"
   ]
  },
  {
   "cell_type": "raw",
   "id": "f3870ba1",
   "metadata": {},
   "source": [
    "x_train_chi = select_feature.transform(x_train)\n",
    "x_test_chi = select_feature.transform(x_test)"
   ]
  },
  {
   "cell_type": "raw",
   "id": "4988c9ae",
   "metadata": {},
   "source": [
    "x_train.head(3)"
   ]
  },
  {
   "cell_type": "raw",
   "id": "0f18406d",
   "metadata": {},
   "source": [
    "x_train_chi[0:3]"
   ]
  },
  {
   "cell_type": "raw",
   "id": "2b5a2f8b",
   "metadata": {},
   "source": [
    "lr_chi_model = clf_lr.fit(x_train_chi,y_train)"
   ]
  },
  {
   "cell_type": "raw",
   "id": "57adce4c",
   "metadata": {},
   "source": [
    "generate_accuracy_and_heatmap(lr_chi_model, x_test_chi, y_test)"
   ]
  },
  {
   "cell_type": "raw",
   "id": "2bb60a26",
   "metadata": {},
   "source": [
    "rfe = RFE(estimator=clf_lr, step=1)\n",
    "rfe = rfe.fit(x_train, y_train)"
   ]
  },
  {
   "cell_type": "raw",
   "id": "3d35ab54",
   "metadata": {},
   "source": [
    "selected_rfe_features = pd.DataFrame({'Feature':list(x_train.columns),\n",
    "                                      'Ranking':rfe.ranking_})\n",
    "selected_rfe_features.sort_values(by='Ranking')"
   ]
  },
  {
   "cell_type": "raw",
   "id": "fc694a55",
   "metadata": {},
   "source": [
    "x_train_rfe = rfe.transform(x_train)\n",
    "x_test_rfe = rfe.transform(x_test)"
   ]
  },
  {
   "cell_type": "raw",
   "id": "84607fb2",
   "metadata": {},
   "source": [
    "x_train_rfe[0:3]"
   ]
  },
  {
   "cell_type": "raw",
   "id": "c0fb378e",
   "metadata": {},
   "source": [
    "lr_rfe_model = clf_lr.fit(x_train_rfe, y_train)"
   ]
  },
  {
   "cell_type": "raw",
   "id": "db85f889",
   "metadata": {},
   "source": [
    "generate_accuracy_and_heatmap(lr_rfe_model, x_test_rfe, y_test)"
   ]
  },
  {
   "cell_type": "markdown",
   "id": "bbfc7a08",
   "metadata": {},
   "source": [
    "## Recursive feature elimination with cross validation (Backward Feature Elimination)"
   ]
  },
  {
   "cell_type": "code",
   "execution_count": 348,
   "id": "6580a4e0",
   "metadata": {},
   "outputs": [],
   "source": [
    "clf_lr = LogisticRegression()"
   ]
  },
  {
   "cell_type": "code",
   "execution_count": 358,
   "id": "28b45d47",
   "metadata": {},
   "outputs": [
    {
     "name": "stdout",
     "output_type": "stream",
     "text": [
      "Optimal number of features : 7\n",
      "Best features : Index(['Pregnancies', 'Glucose', 'BMI', 'Age', 'BloodPressureSqrt',\n",
      "       'GlucoseSqrt', 'AgeBMI'],\n",
      "      dtype='object')\n"
     ]
    }
   ],
   "source": [
    "rfecv = RFECV(estimator=clf_lr, step=1, cv=5, scoring='accuracy') # step = 1 means removing 1 feauture each time\n",
    "rfecv = rfecv.fit(x_train, y_train)\n",
    "print('Optimal number of features :', rfecv.n_features_)\n",
    "print('Best features :', x_train.columns[rfecv.support_])"
   ]
  },
  {
   "cell_type": "code",
   "execution_count": 359,
   "id": "eadd7331",
   "metadata": {},
   "outputs": [
    {
     "data": {
      "text/plain": [
       "array([[0.796, 0.641, 0.748, 0.738, 0.745],\n",
       "       [0.786, 0.718, 0.738, 0.738, 0.725],\n",
       "       [0.786, 0.709, 0.738, 0.748, 0.765],\n",
       "       [0.825, 0.728, 0.738, 0.767, 0.735],\n",
       "       [0.835, 0.718, 0.777, 0.767, 0.755],\n",
       "       [0.816, 0.718, 0.786, 0.786, 0.755],\n",
       "       [0.835, 0.718, 0.786, 0.757, 0.775],\n",
       "       [0.835, 0.718, 0.757, 0.767, 0.765],\n",
       "       [0.835, 0.728, 0.757, 0.767, 0.755],\n",
       "       [0.845, 0.728, 0.728, 0.748, 0.755],\n",
       "       [0.845, 0.709, 0.786, 0.748, 0.755],\n",
       "       [0.825, 0.709, 0.786, 0.748, 0.765],\n",
       "       [0.816, 0.748, 0.767, 0.748, 0.755],\n",
       "       [0.806, 0.738, 0.767, 0.748, 0.716],\n",
       "       [0.835, 0.757, 0.748, 0.738, 0.706],\n",
       "       [0.835, 0.748, 0.748, 0.738, 0.735]])"
      ]
     },
     "execution_count": 359,
     "metadata": {},
     "output_type": "execute_result"
    }
   ],
   "source": [
    "rfecv.grid_scores_\n",
    "\n",
    "# accuracy score with different number and different type of features"
   ]
  },
  {
   "cell_type": "code",
   "execution_count": 360,
   "id": "5f7b9836",
   "metadata": {},
   "outputs": [
    {
     "data": {
      "image/png": "[encoded data removed]",
      "text/plain": [
       "<Figure size 432x288 with 1 Axes>"
      ]
     },
     "metadata": {
      "needs_background": "light"
     },
     "output_type": "display_data"
    }
   ],
   "source": [
    "plt.figure()\n",
    "plt.xlabel(\"Number of features selected\")\n",
    "plt.ylabel(\"Cross validation score of number of selected features\")\n",
    "plt.plot(range(1, len(rfecv.grid_scores_) + 1), rfecv.grid_scores_)\n",
    "plt.show()"
   ]
  },
  {
   "cell_type": "code",
   "execution_count": 361,
   "id": "ec00dfa4",
   "metadata": {},
   "outputs": [],
   "source": [
    "x_train_rfecv = rfecv.transform(x_train)\n",
    "x_test_rfecv = rfecv.transform(x_test)"
   ]
  },
  {
   "cell_type": "code",
   "execution_count": 362,
   "id": "a45d681c",
   "metadata": {},
   "outputs": [],
   "source": [
    "lr_rfecv_model = clf_lr.fit(x_train_rfecv, y_train)"
   ]
  },
  {
   "cell_type": "code",
   "execution_count": 363,
   "id": "36569de9",
   "metadata": {},
   "outputs": [
    {
     "name": "stdout",
     "output_type": "stream",
     "text": [
      "Accuracy is:  0.7795275590551181\n",
      "F1 score is:  0.6410256410256411\n",
      "\n",
      "\n",
      "Actual      0   1\n",
      "Predicted        \n",
      "0          36  23\n",
      "1          18   8\n"
     ]
    },
    {
     "data": {
      "text/plain": [
       "1"
      ]
     },
     "execution_count": 363,
     "metadata": {},
     "output_type": "execute_result"
    }
   ],
   "source": [
    "generate_accuracy_and_heatmap(lr_rfecv_model, x_test_rfecv, y_test)"
   ]
  },
  {
   "cell_type": "markdown",
   "id": "3f9a6faf",
   "metadata": {},
   "source": [
    "___\n",
    "___"
   ]
  },
  {
   "cell_type": "markdown",
   "id": "8d3538ef",
   "metadata": {},
   "source": [
    "## Feature Selection using Chi-Square\n",
    "\n",
    "https://www.youtube.com/watch?v=fMIwIKLGke0"
   ]
  },
  {
   "cell_type": "markdown",
   "id": "d87421cd",
   "metadata": {},
   "source": [
    "The chi-square test is used to estimate how likely the observations that are made would be, by considering the assumption of the null hypothesis as true.\n",
    "\n",
    "A hypothesis is a consideration that a given condition or statement might be true, which we can test afterwards. Chi-squared tests are usually created from a sum of squared falsities or errors over the sample variance.\n",
    "\n",
    "\n",
    "When we consider, the null speculation is true, the sampling distribution of the test statistic is called as chi-squared distribution. The chi-squared test helps to determine whether there is a notable difference between the normal frequencies and the observed frequencies in one or more classes or categories. It gives the probability of independent variables.\n",
    "\n",
    "\n",
    "P stands for probability here. To calculate the p-value, the chi-square test is used in statistics. The different values of p indicates the different hypothesis interpretation, are given below:\n",
    "\n",
    "P≤ 0.05; Hypothesis rejected\n",
    "P>.05; Hypothesis Accepted"
   ]
  },
  {
   "cell_type": "code",
   "execution_count": 333,
   "id": "40199850",
   "metadata": {},
   "outputs": [],
   "source": [
    "import pandas as pd\n",
    "import numpy as np\n",
    "from scipy import stats\n",
    "from sklearn.feature_selection import SelectKBest, chi2"
   ]
  },
  {
   "cell_type": "code",
   "execution_count": 334,
   "id": "c0fefa19",
   "metadata": {},
   "outputs": [
    {
     "data": {
      "text/html": [
       "<div>\n",
       "<style scoped>\n",
       "    .dataframe tbody tr th:only-of-type {\n",
       "        vertical-align: middle;\n",
       "    }\n",
       "\n",
       "    .dataframe tbody tr th {\n",
       "        vertical-align: top;\n",
       "    }\n",
       "\n",
       "    .dataframe thead th {\n",
       "        text-align: right;\n",
       "    }\n",
       "</style>\n",
       "<table border=\"1\" class=\"dataframe\">\n",
       "  <thead>\n",
       "    <tr style=\"text-align: right;\">\n",
       "      <th></th>\n",
       "      <th>is_adult</th>\n",
       "      <th>is_male</th>\n",
       "      <th>accident</th>\n",
       "    </tr>\n",
       "  </thead>\n",
       "  <tbody>\n",
       "    <tr>\n",
       "      <th>0</th>\n",
       "      <td>1</td>\n",
       "      <td>0</td>\n",
       "      <td>1</td>\n",
       "    </tr>\n",
       "    <tr>\n",
       "      <th>1</th>\n",
       "      <td>1</td>\n",
       "      <td>1</td>\n",
       "      <td>1</td>\n",
       "    </tr>\n",
       "    <tr>\n",
       "      <th>2</th>\n",
       "      <td>1</td>\n",
       "      <td>1</td>\n",
       "      <td>0</td>\n",
       "    </tr>\n",
       "    <tr>\n",
       "      <th>3</th>\n",
       "      <td>1</td>\n",
       "      <td>1</td>\n",
       "      <td>0</td>\n",
       "    </tr>\n",
       "    <tr>\n",
       "      <th>4</th>\n",
       "      <td>1</td>\n",
       "      <td>0</td>\n",
       "      <td>0</td>\n",
       "    </tr>\n",
       "  </tbody>\n",
       "</table>\n",
       "</div>"
      ],
      "text/plain": [
       "   is_adult  is_male  accident\n",
       "0         1        0         1\n",
       "1         1        1         1\n",
       "2         1        1         0\n",
       "3         1        1         0\n",
       "4         1        0         0"
      ]
     },
     "execution_count": 334,
     "metadata": {},
     "output_type": "execute_result"
    }
   ],
   "source": [
    "df = pd.read_excel('accident.xlsx')\n",
    "df.head()"
   ]
  },
  {
   "cell_type": "code",
   "execution_count": 335,
   "id": "af1efe6b",
   "metadata": {},
   "outputs": [
    {
     "data": {
      "text/plain": [
       "(927, 3)"
      ]
     },
     "execution_count": 335,
     "metadata": {},
     "output_type": "execute_result"
    }
   ],
   "source": [
    "df.shape"
   ]
  },
  {
   "cell_type": "code",
   "execution_count": 336,
   "id": "bb1cb3c4",
   "metadata": {},
   "outputs": [
    {
     "data": {
      "text/html": [
       "<div>\n",
       "<style scoped>\n",
       "    .dataframe tbody tr th:only-of-type {\n",
       "        vertical-align: middle;\n",
       "    }\n",
       "\n",
       "    .dataframe tbody tr th {\n",
       "        vertical-align: top;\n",
       "    }\n",
       "\n",
       "    .dataframe thead th {\n",
       "        text-align: right;\n",
       "    }\n",
       "</style>\n",
       "<table border=\"1\" class=\"dataframe\">\n",
       "  <thead>\n",
       "    <tr style=\"text-align: right;\">\n",
       "      <th>accident</th>\n",
       "      <th>0</th>\n",
       "      <th>1</th>\n",
       "      <th>All</th>\n",
       "    </tr>\n",
       "    <tr>\n",
       "      <th>is_adult</th>\n",
       "      <th></th>\n",
       "      <th></th>\n",
       "      <th></th>\n",
       "    </tr>\n",
       "  </thead>\n",
       "  <tbody>\n",
       "    <tr>\n",
       "      <th>1</th>\n",
       "      <td>781</td>\n",
       "      <td>146</td>\n",
       "      <td>927</td>\n",
       "    </tr>\n",
       "    <tr>\n",
       "      <th>All</th>\n",
       "      <td>781</td>\n",
       "      <td>146</td>\n",
       "      <td>927</td>\n",
       "    </tr>\n",
       "  </tbody>\n",
       "</table>\n",
       "</div>"
      ],
      "text/plain": [
       "accident    0    1  All\n",
       "is_adult               \n",
       "1         781  146  927\n",
       "All       781  146  927"
      ]
     },
     "execution_count": 336,
     "metadata": {},
     "output_type": "execute_result"
    }
   ],
   "source": [
    "# finding pattern wrt feature and target column\n",
    "adult_accident_crosstab = pd.crosstab(df['is_adult'], df['accident'], \n",
    "                                      margins=True)\n",
    "adult_accident_crosstab"
   ]
  },
  {
   "cell_type": "code",
   "execution_count": 337,
   "id": "3729bb1e",
   "metadata": {},
   "outputs": [
    {
     "data": {
      "text/html": [
       "<div>\n",
       "<style scoped>\n",
       "    .dataframe tbody tr th:only-of-type {\n",
       "        vertical-align: middle;\n",
       "    }\n",
       "\n",
       "    .dataframe tbody tr th {\n",
       "        vertical-align: top;\n",
       "    }\n",
       "\n",
       "    .dataframe thead th {\n",
       "        text-align: right;\n",
       "    }\n",
       "</style>\n",
       "<table border=\"1\" class=\"dataframe\">\n",
       "  <thead>\n",
       "    <tr style=\"text-align: right;\">\n",
       "      <th>accident</th>\n",
       "      <th>0</th>\n",
       "      <th>1</th>\n",
       "      <th>All</th>\n",
       "    </tr>\n",
       "    <tr>\n",
       "      <th>is_male</th>\n",
       "      <th></th>\n",
       "      <th></th>\n",
       "      <th></th>\n",
       "    </tr>\n",
       "  </thead>\n",
       "  <tbody>\n",
       "    <tr>\n",
       "      <th>0</th>\n",
       "      <td>154</td>\n",
       "      <td>47</td>\n",
       "      <td>201</td>\n",
       "    </tr>\n",
       "    <tr>\n",
       "      <th>1</th>\n",
       "      <td>627</td>\n",
       "      <td>99</td>\n",
       "      <td>726</td>\n",
       "    </tr>\n",
       "    <tr>\n",
       "      <th>All</th>\n",
       "      <td>781</td>\n",
       "      <td>146</td>\n",
       "      <td>927</td>\n",
       "    </tr>\n",
       "  </tbody>\n",
       "</table>\n",
       "</div>"
      ],
      "text/plain": [
       "accident    0    1  All\n",
       "is_male                \n",
       "0         154   47  201\n",
       "1         627   99  726\n",
       "All       781  146  927"
      ]
     },
     "execution_count": 337,
     "metadata": {},
     "output_type": "execute_result"
    }
   ],
   "source": [
    "# finding pattern wrt feature and target column\n",
    "gender_accident_crosstab = pd.crosstab(df['is_male'], df['accident'], \n",
    "                                       margins=True)\n",
    "gender_accident_crosstab"
   ]
  },
  {
   "cell_type": "markdown",
   "id": "1a7ffc95",
   "metadata": {},
   "source": [
    "#### Chi-square test works only on Categorical variables for Discrete variables"
   ]
  },
  {
   "cell_type": "code",
   "execution_count": 338,
   "id": "441f40a6",
   "metadata": {},
   "outputs": [],
   "source": [
    "# using chi-square test on is_male and accident\n",
    "def check_categorical_dependency(crosstab_table, confidence_interval):\n",
    "    stat, p, dof, expected = stats.chi2_contingency(crosstab_table)\n",
    "    print (\"Chi-Square Statistic value = {}\".format(stat))\n",
    "    print (\"P - Value = {}\".format(p))\n",
    "    alpha = 1.0 - confidence_interval\n",
    "    if p <= alpha:\n",
    "        print('Dependent (reject H0)')\n",
    "    else:\n",
    "          print('Independent (fail to reject H0)')\n",
    "    return expected"
   ]
  },
  {
   "cell_type": "code",
   "execution_count": 339,
   "id": "8307a9c5",
   "metadata": {},
   "outputs": [
    {
     "name": "stdout",
     "output_type": "stream",
     "text": [
      "Chi-Square Statistic value = 0.0\n",
      "P - Value = 1.0\n",
      "Independent (fail to reject H0)\n"
     ]
    }
   ],
   "source": [
    "exp_table_1 = check_categorical_dependency(adult_accident_crosstab, 0.95) # passing 1st table"
   ]
  },
  {
   "cell_type": "code",
   "execution_count": 340,
   "id": "2fa019ac",
   "metadata": {},
   "outputs": [
    {
     "data": {
      "text/html": [
       "<div>\n",
       "<style scoped>\n",
       "    .dataframe tbody tr th:only-of-type {\n",
       "        vertical-align: middle;\n",
       "    }\n",
       "\n",
       "    .dataframe tbody tr th {\n",
       "        vertical-align: top;\n",
       "    }\n",
       "\n",
       "    .dataframe thead th {\n",
       "        text-align: right;\n",
       "    }\n",
       "</style>\n",
       "<table border=\"1\" class=\"dataframe\">\n",
       "  <thead>\n",
       "    <tr style=\"text-align: right;\">\n",
       "      <th></th>\n",
       "      <th>0</th>\n",
       "      <th>1</th>\n",
       "      <th>2</th>\n",
       "    </tr>\n",
       "  </thead>\n",
       "  <tbody>\n",
       "    <tr>\n",
       "      <th>0</th>\n",
       "      <td>781.000</td>\n",
       "      <td>146.000</td>\n",
       "      <td>927.000</td>\n",
       "    </tr>\n",
       "    <tr>\n",
       "      <th>1</th>\n",
       "      <td>781.000</td>\n",
       "      <td>146.000</td>\n",
       "      <td>927.000</td>\n",
       "    </tr>\n",
       "  </tbody>\n",
       "</table>\n",
       "</div>"
      ],
      "text/plain": [
       "        0       1       2\n",
       "0 781.000 146.000 927.000\n",
       "1 781.000 146.000 927.000"
      ]
     },
     "execution_count": 340,
     "metadata": {},
     "output_type": "execute_result"
    }
   ],
   "source": [
    "pd.DataFrame(exp_table_1)"
   ]
  },
  {
   "cell_type": "code",
   "execution_count": 341,
   "id": "cbce82e4",
   "metadata": {},
   "outputs": [
    {
     "name": "stdout",
     "output_type": "stream",
     "text": [
      "Chi-Square Statistic value = 11.270043347013548\n",
      "P - Value = 0.023691007358727482\n",
      "Dependent (reject H0)\n"
     ]
    }
   ],
   "source": [
    "exp_table_2 = check_categorical_dependency(gender_accident_crosstab, 0.95) # for 2nd table of gender"
   ]
  },
  {
   "cell_type": "markdown",
   "id": "12a2240e",
   "metadata": {},
   "source": [
    "Since p-value is less than 0.05,  we reject the null hypothesis\n",
    "\n",
    "So we can conclude that the target column (prone_to_accident) is dependent on gender column based on the p-value"
   ]
  },
  {
   "cell_type": "code",
   "execution_count": 342,
   "id": "baf11948",
   "metadata": {},
   "outputs": [
    {
     "data": {
      "text/html": [
       "<div>\n",
       "<style scoped>\n",
       "    .dataframe tbody tr th:only-of-type {\n",
       "        vertical-align: middle;\n",
       "    }\n",
       "\n",
       "    .dataframe tbody tr th {\n",
       "        vertical-align: top;\n",
       "    }\n",
       "\n",
       "    .dataframe thead th {\n",
       "        text-align: right;\n",
       "    }\n",
       "</style>\n",
       "<table border=\"1\" class=\"dataframe\">\n",
       "  <thead>\n",
       "    <tr style=\"text-align: right;\">\n",
       "      <th></th>\n",
       "      <th>0</th>\n",
       "      <th>1</th>\n",
       "      <th>2</th>\n",
       "    </tr>\n",
       "  </thead>\n",
       "  <tbody>\n",
       "    <tr>\n",
       "      <th>0</th>\n",
       "      <td>169.343</td>\n",
       "      <td>31.657</td>\n",
       "      <td>201.000</td>\n",
       "    </tr>\n",
       "    <tr>\n",
       "      <th>1</th>\n",
       "      <td>611.657</td>\n",
       "      <td>114.343</td>\n",
       "      <td>726.000</td>\n",
       "    </tr>\n",
       "    <tr>\n",
       "      <th>2</th>\n",
       "      <td>781.000</td>\n",
       "      <td>146.000</td>\n",
       "      <td>927.000</td>\n",
       "    </tr>\n",
       "  </tbody>\n",
       "</table>\n",
       "</div>"
      ],
      "text/plain": [
       "        0       1       2\n",
       "0 169.343  31.657 201.000\n",
       "1 611.657 114.343 726.000\n",
       "2 781.000 146.000 927.000"
      ]
     },
     "execution_count": 342,
     "metadata": {},
     "output_type": "execute_result"
    }
   ],
   "source": [
    "pd.DataFrame(exp_table_2)"
   ]
  },
  {
   "cell_type": "markdown",
   "id": "45fb840c",
   "metadata": {
    "colab_type": "text",
    "id": "42REqLNZzJRj"
   },
   "source": [
    "## BEST Feature Selection using Chi-Square\n",
    "\n",
    "Do Again"
   ]
  },
  {
   "cell_type": "code",
   "execution_count": 343,
   "id": "19d7934d",
   "metadata": {
    "colab": {},
    "colab_type": "code",
    "id": "qwu9pDZ3n-Jb"
   },
   "outputs": [],
   "source": [
    "X = df[[\"is_adult\", \"is_male\"]]"
   ]
  },
  {
   "cell_type": "code",
   "execution_count": 344,
   "id": "d7a5e615",
   "metadata": {
    "colab": {},
    "colab_type": "code",
    "id": "HyDELW6YoNeC"
   },
   "outputs": [],
   "source": [
    "y = df[[\"accident\"]]"
   ]
  },
  {
   "cell_type": "code",
   "execution_count": 345,
   "id": "823529be",
   "metadata": {
    "colab": {},
    "colab_type": "code",
    "id": "hKajjuY9oPmg"
   },
   "outputs": [],
   "source": [
    "X_new = SelectKBest(chi2, k=1).fit_transform(X, y) # want only 1 feature with highest ch-square value"
   ]
  },
  {
   "cell_type": "code",
   "execution_count": 346,
   "id": "3d046ea4",
   "metadata": {
    "colab": {
     "base_uri": "https://localhost:8080/",
     "height": 34
    },
    "colab_type": "code",
    "id": "aiQ4IAtxoV_6",
    "outputId": "7272d55c-7f23-4812-e04a-a985ee681dbd"
   },
   "outputs": [
    {
     "data": {
      "text/plain": [
       "(927, 1)"
      ]
     },
     "execution_count": 346,
     "metadata": {},
     "output_type": "execute_result"
    }
   ],
   "source": [
    "X_new.shape"
   ]
  },
  {
   "cell_type": "code",
   "execution_count": 347,
   "id": "880dbb03",
   "metadata": {
    "colab": {
     "base_uri": "https://localhost:8080/",
     "height": 140
    },
    "colab_type": "code",
    "id": "AsGHxlXFofax",
    "outputId": "690b2fcc-f6f5-4ff3-9c0a-f0583d80d1ad"
   },
   "outputs": [
    {
     "data": {
      "text/html": [
       "<div>\n",
       "<style scoped>\n",
       "    .dataframe tbody tr th:only-of-type {\n",
       "        vertical-align: middle;\n",
       "    }\n",
       "\n",
       "    .dataframe tbody tr th {\n",
       "        vertical-align: top;\n",
       "    }\n",
       "\n",
       "    .dataframe thead th {\n",
       "        text-align: right;\n",
       "    }\n",
       "</style>\n",
       "<table border=\"1\" class=\"dataframe\">\n",
       "  <thead>\n",
       "    <tr style=\"text-align: right;\">\n",
       "      <th>accident</th>\n",
       "      <th>0</th>\n",
       "      <th>1</th>\n",
       "    </tr>\n",
       "    <tr>\n",
       "      <th>row_0</th>\n",
       "      <th></th>\n",
       "      <th></th>\n",
       "    </tr>\n",
       "  </thead>\n",
       "  <tbody>\n",
       "    <tr>\n",
       "      <th>0</th>\n",
       "      <td>154</td>\n",
       "      <td>47</td>\n",
       "    </tr>\n",
       "    <tr>\n",
       "      <th>1</th>\n",
       "      <td>627</td>\n",
       "      <td>99</td>\n",
       "    </tr>\n",
       "  </tbody>\n",
       "</table>\n",
       "</div>"
      ],
      "text/plain": [
       "accident    0   1\n",
       "row_0            \n",
       "0         154  47\n",
       "1         627  99"
      ]
     },
     "execution_count": 347,
     "metadata": {},
     "output_type": "execute_result"
    }
   ],
   "source": [
    "pd.crosstab(np.squeeze(X_new), np.squeeze(y))"
   ]
  },
  {
   "cell_type": "code",
   "execution_count": null,
   "id": "615afe94",
   "metadata": {},
   "outputs": [],
   "source": []
  },
  {
   "cell_type": "code",
   "execution_count": null,
   "id": "7d425548",
   "metadata": {},
   "outputs": [],
   "source": []
  }
 ],
 "metadata": {
  "kernelspec": {
   "display_name": "Python 3 (ipykernel)",
   "language": "python",
   "name": "python3"
  },
  "language_info": {
   "codemirror_mode": {
    "name": "ipython",
    "version": 3
   },
   "file_extension": ".py",
   "mimetype": "text/x-python",
   "name": "python",
   "nbconvert_exporter": "python",
   "pygments_lexer": "ipython3",
   "version": "3.9.13"
  }
 },
 "nbformat": 4,
 "nbformat_minor": 5
}
